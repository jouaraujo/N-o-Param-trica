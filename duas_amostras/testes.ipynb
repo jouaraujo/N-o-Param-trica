{
 "cells": [
  {
   "cell_type": "markdown",
   "metadata": {},
   "source": [
    "## Amostras Relacionadas"
   ]
  },
  {
   "cell_type": "markdown",
   "metadata": {},
   "source": [
    "### McNemar"
   ]
  },
  {
   "cell_type": "code",
   "execution_count": 1,
   "metadata": {
    "vscode": {
     "languageId": "r"
    }
   },
   "outputs": [],
   "source": [
    "mercado<- matrix(c(37,13,3,47),\n",
    "                 nrow = 2,\n",
    "                 dimnames = list(\"Antes\" = c(\"A\", \"B\"),\n",
    "                                 \"Depois\" = c(\"A\", \"B\")))"
   ]
  },
  {
   "cell_type": "code",
   "execution_count": 2,
   "metadata": {
    "vscode": {
     "languageId": "r"
    }
   },
   "outputs": [
    {
     "data": {
      "text/html": [
       "<table class=\"dataframe\">\n",
       "<caption>A matrix: 2 × 2 of type dbl</caption>\n",
       "<thead>\n",
       "\t<tr><th></th><th scope=col>A</th><th scope=col>B</th></tr>\n",
       "</thead>\n",
       "<tbody>\n",
       "\t<tr><th scope=row>A</th><td>37</td><td> 3</td></tr>\n",
       "\t<tr><th scope=row>B</th><td>13</td><td>47</td></tr>\n",
       "</tbody>\n",
       "</table>\n"
      ],
      "text/latex": [
       "A matrix: 2 × 2 of type dbl\n",
       "\\begin{tabular}{r|ll}\n",
       "  & A & B\\\\\n",
       "\\hline\n",
       "\tA & 37 &  3\\\\\n",
       "\tB & 13 & 47\\\\\n",
       "\\end{tabular}\n"
      ],
      "text/markdown": [
       "\n",
       "A matrix: 2 × 2 of type dbl\n",
       "\n",
       "| <!--/--> | A | B |\n",
       "|---|---|---|\n",
       "| A | 37 |  3 |\n",
       "| B | 13 | 47 |\n",
       "\n"
      ],
      "text/plain": [
       "     Depois\n",
       "Antes A  B \n",
       "    A 37  3\n",
       "    B 13 47"
      ]
     },
     "metadata": {},
     "output_type": "display_data"
    },
    {
     "data": {
      "text/plain": [
       "\n",
       "\tMcNemar's Chi-squared test with continuity correction\n",
       "\n",
       "data:  mercado\n",
       "McNemar's chi-squared = 5.0625, df = 1, p-value = 0.02445\n"
      ]
     },
     "metadata": {},
     "output_type": "display_data"
    }
   ],
   "source": [
    "mercado\n",
    "mcnemar.test(mercado, correct=TRUE)"
   ]
  },
  {
   "cell_type": "markdown",
   "metadata": {},
   "source": [
    "### Teste dos Sinais"
   ]
  },
  {
   "cell_type": "code",
   "execution_count": 3,
   "metadata": {
    "vscode": {
     "languageId": "r"
    }
   },
   "outputs": [
    {
     "data": {
      "text/html": [
       "<style>\n",
       ".list-inline {list-style: none; margin:0; padding: 0}\n",
       ".list-inline>li {display: inline-block}\n",
       ".list-inline>li:not(:last-child)::after {content: \"\\00b7\"; padding: 0 .5ex}\n",
       "</style>\n",
       "<ol class=list-inline><li>-6</li><li>1</li><li>-3</li><li>-5</li><li>-4</li><li>-4</li><li>-2</li><li>-1</li></ol>\n"
      ],
      "text/latex": [
       "\\begin{enumerate*}\n",
       "\\item -6\n",
       "\\item 1\n",
       "\\item -3\n",
       "\\item -5\n",
       "\\item -4\n",
       "\\item -4\n",
       "\\item -2\n",
       "\\item -1\n",
       "\\end{enumerate*}\n"
      ],
      "text/markdown": [
       "1. -6\n",
       "2. 1\n",
       "3. -3\n",
       "4. -5\n",
       "5. -4\n",
       "6. -4\n",
       "7. -2\n",
       "8. -1\n",
       "\n",
       "\n"
      ],
      "text/plain": [
       "[1] -6  1 -3 -5 -4 -4 -2 -1"
      ]
     },
     "metadata": {},
     "output_type": "display_data"
    }
   ],
   "source": [
    "mvelho<-c(18,15,19,23,12,16,18,17)\n",
    "mnovo<-c(24,14,22,28,16,20,20,18)\n",
    "mvelho-mnovo"
   ]
  },
  {
   "cell_type": "code",
   "execution_count": 4,
   "metadata": {
    "vscode": {
     "languageId": "r"
    }
   },
   "outputs": [
    {
     "data": {
      "text/plain": [
       "\n",
       "\tExact binomial test\n",
       "\n",
       "data:  1 and 8\n",
       "number of successes = 1, number of trials = 8, p-value = 0.07031\n",
       "alternative hypothesis: true probability of success is not equal to 0.5\n",
       "95 percent confidence interval:\n",
       " 0.003159724 0.526509671\n",
       "sample estimates:\n",
       "probability of success \n",
       "                 0.125 \n"
      ]
     },
     "metadata": {},
     "output_type": "display_data"
    }
   ],
   "source": [
    "### Vimos que temos o x = 1, pois a menor das duas categorias ? 1 +\n",
    "### Podemos então aplicar um teste binomial\n",
    "binom.test(1,8)"
   ]
  },
  {
   "cell_type": "code",
   "execution_count": 5,
   "metadata": {
    "vscode": {
     "languageId": "r"
    }
   },
   "outputs": [
    {
     "name": "stderr",
     "output_type": "stream",
     "text": [
      "Installing package into 'C:/Users/jonat/AppData/Local/R/win-library/4.3'\n",
      "(as 'lib' is unspecified)\n",
      "\n"
     ]
    },
    {
     "name": "stdout",
     "output_type": "stream",
     "text": [
      "package 'BSDA' successfully unpacked and MD5 sums checked\n",
      "\n",
      "The downloaded binary packages are in\n",
      "\tC:\\Users\\jonat\\AppData\\Local\\Temp\\RtmpMvHSq4\\downloaded_packages\n"
     ]
    }
   ],
   "source": [
    "###Ou atraves de pacote\n",
    "#### Instalar pacote BSDA\n",
    "install.packages(\"BSDA\") "
   ]
  },
  {
   "cell_type": "code",
   "execution_count": 6,
   "metadata": {
    "vscode": {
     "languageId": "r"
    }
   },
   "outputs": [
    {
     "name": "stderr",
     "output_type": "stream",
     "text": [
      "Carregando pacotes exigidos: lattice\n",
      "\n",
      "\n",
      "Attaching package: 'BSDA'\n",
      "\n",
      "\n",
      "The following object is masked from 'package:datasets':\n",
      "\n",
      "    Orange\n",
      "\n",
      "\n"
     ]
    },
    {
     "data": {
      "text/plain": [
       "\n",
       "\tDependent-samples Sign-Test\n",
       "\n",
       "data:  mvelho and mnovo\n",
       "S = 1, p-value = 0.07031\n",
       "alternative hypothesis: true median difference is not equal to 0\n",
       "95 percent confidence interval:\n",
       " -5.325 -0.350\n",
       "sample estimates:\n",
       "median of x-y \n",
       "         -3.5 \n",
       "\n",
       "Achieved and Interpolated Confidence Intervals: \n",
       "\n",
       "                  Conf.Level L.E.pt U.E.pt\n",
       "Lower Achieved CI     0.9297 -5.000  -1.00\n",
       "Interpolated CI       0.9500 -5.325  -0.35\n",
       "Upper Achieved CI     0.9922 -6.000   1.00\n"
      ]
     },
     "metadata": {},
     "output_type": "display_data"
    }
   ],
   "source": [
    "library(BSDA)\n",
    "SIGN.test(mvelho,mnovo,    alternative = \"two.sided\",\n",
    "          conf.level = 0.95)\n",
    "#### Observe que o p-valor foi o mesmo"
   ]
  },
  {
   "cell_type": "markdown",
   "metadata": {},
   "source": [
    "### Teste de Wilcoxon"
   ]
  },
  {
   "cell_type": "code",
   "execution_count": 7,
   "metadata": {
    "vscode": {
     "languageId": "r"
    }
   },
   "outputs": [
    {
     "name": "stderr",
     "output_type": "stream",
     "text": [
      "Warning message in wilcox.test.default(mvelho, mnovo, paired = TRUE, alternative = \"two.sided\"):\n",
      "\"não é possível computar o valor de p exato com o de desempate\"\n"
     ]
    },
    {
     "data": {
      "text/plain": [
       "\n",
       "\tWilcoxon signed rank test with continuity correction\n",
       "\n",
       "data:  mvelho and mnovo\n",
       "V = 1.5, p-value = 0.02471\n",
       "alternative hypothesis: true location shift is not equal to 0\n"
      ]
     },
     "metadata": {},
     "output_type": "display_data"
    }
   ],
   "source": [
    "#####IMPORTANTE: NÃO ESQUECER DE COLOCAR PAIRED = TRUE\n",
    "#### ISSO INFORMA QUE AS AMOSTRAS SÃO PAREADAS (DEPENDENTES)\n",
    "wilcox.test(mvelho,mnovo,paired=TRUE, alternative = \"two.sided\")\n",
    "### Veja que a estatística do teste ? V = 1,5\n",
    "### p-valor = 0,02471, ou seja rejeitamos H0."
   ]
  },
  {
   "cell_type": "markdown",
   "metadata": {
    "vscode": {
     "languageId": "r"
    }
   },
   "source": [
    "### Unilateral"
   ]
  },
  {
   "cell_type": "code",
   "execution_count": 8,
   "metadata": {
    "vscode": {
     "languageId": "r"
    }
   },
   "outputs": [
    {
     "data": {
      "text/plain": [
       "\n",
       "\tWilcoxon signed rank test with continuity correction\n",
       "\n",
       "data:  mvelho and mnovo\n",
       "V = 1.5, p-value = 0.01235\n",
       "alternative hypothesis: true location shift is less than 0\n"
      ]
     },
     "metadata": {},
     "output_type": "display_data"
    }
   ],
   "source": [
    "#### Baseia-se no primeiro elemento na função\n",
    "#### no caso abaixo testamos se mvelho<mnovo\n",
    "wilcox.test(mvelho,mnovo,paired=TRUE, alternative = \"less\",exact=F)\n",
    "###p-valor = 0,01235, ou seja rejeitamos H0"
   ]
  },
  {
   "cell_type": "markdown",
   "metadata": {},
   "source": [
    "## Amostras Independentes "
   ]
  },
  {
   "cell_type": "markdown",
   "metadata": {},
   "source": [
    "### Teste Qui-quadrado"
   ]
  },
  {
   "cell_type": "code",
   "execution_count": 10,
   "metadata": {
    "vscode": {
     "languageId": "r"
    }
   },
   "outputs": [
    {
     "data": {
      "text/html": [
       "<table class=\"dataframe\">\n",
       "<caption>A data.frame: 192 × 2</caption>\n",
       "<thead>\n",
       "\t<tr><th scope=col>Fuma</th><th scope=col>Infa</th></tr>\n",
       "\t<tr><th scope=col>&lt;chr&gt;</th><th scope=col>&lt;chr&gt;</th></tr>\n",
       "</thead>\n",
       "<tbody>\n",
       "\t<tr><td>Sim</td><td>Pres</td></tr>\n",
       "\t<tr><td>Sim</td><td>Pres</td></tr>\n",
       "\t<tr><td>Sim</td><td>Pres</td></tr>\n",
       "\t<tr><td>Sim</td><td>Pres</td></tr>\n",
       "\t<tr><td>Sim</td><td>Pres</td></tr>\n",
       "\t<tr><td>Sim</td><td>Pres</td></tr>\n",
       "\t<tr><td>Sim</td><td>Pres</td></tr>\n",
       "\t<tr><td>Sim</td><td>Pres</td></tr>\n",
       "\t<tr><td>Sim</td><td>Pres</td></tr>\n",
       "\t<tr><td>Sim</td><td>Pres</td></tr>\n",
       "\t<tr><td>Sim</td><td>Pres</td></tr>\n",
       "\t<tr><td>Sim</td><td>Pres</td></tr>\n",
       "\t<tr><td>Sim</td><td>Pres</td></tr>\n",
       "\t<tr><td>Sim</td><td>Pres</td></tr>\n",
       "\t<tr><td>Sim</td><td>Pres</td></tr>\n",
       "\t<tr><td>Sim</td><td>Pres</td></tr>\n",
       "\t<tr><td>Sim</td><td>Pres</td></tr>\n",
       "\t<tr><td>Sim</td><td>Aus </td></tr>\n",
       "\t<tr><td>Sim</td><td>Aus </td></tr>\n",
       "\t<tr><td>Sim</td><td>Aus </td></tr>\n",
       "\t<tr><td>Sim</td><td>Aus </td></tr>\n",
       "\t<tr><td>Sim</td><td>Aus </td></tr>\n",
       "\t<tr><td>Sim</td><td>Aus </td></tr>\n",
       "\t<tr><td>Sim</td><td>Aus </td></tr>\n",
       "\t<tr><td>Sim</td><td>Aus </td></tr>\n",
       "\t<tr><td>Sim</td><td>Aus </td></tr>\n",
       "\t<tr><td>Sim</td><td>Aus </td></tr>\n",
       "\t<tr><td>Sim</td><td>Aus </td></tr>\n",
       "\t<tr><td>Sim</td><td>Aus </td></tr>\n",
       "\t<tr><td>Sim</td><td>Aus </td></tr>\n",
       "\t<tr><td>⋮</td><td>⋮</td></tr>\n",
       "\t<tr><td>Nao</td><td>Aus</td></tr>\n",
       "\t<tr><td>Nao</td><td>Aus</td></tr>\n",
       "\t<tr><td>Nao</td><td>Aus</td></tr>\n",
       "\t<tr><td>Nao</td><td>Aus</td></tr>\n",
       "\t<tr><td>Nao</td><td>Aus</td></tr>\n",
       "\t<tr><td>Nao</td><td>Aus</td></tr>\n",
       "\t<tr><td>Nao</td><td>Aus</td></tr>\n",
       "\t<tr><td>Nao</td><td>Aus</td></tr>\n",
       "\t<tr><td>Nao</td><td>Aus</td></tr>\n",
       "\t<tr><td>Nao</td><td>Aus</td></tr>\n",
       "\t<tr><td>Nao</td><td>Aus</td></tr>\n",
       "\t<tr><td>Nao</td><td>Aus</td></tr>\n",
       "\t<tr><td>Nao</td><td>Aus</td></tr>\n",
       "\t<tr><td>Nao</td><td>Aus</td></tr>\n",
       "\t<tr><td>Nao</td><td>Aus</td></tr>\n",
       "\t<tr><td>Nao</td><td>Aus</td></tr>\n",
       "\t<tr><td>Nao</td><td>Aus</td></tr>\n",
       "\t<tr><td>Nao</td><td>Aus</td></tr>\n",
       "\t<tr><td>Nao</td><td>Aus</td></tr>\n",
       "\t<tr><td>Nao</td><td>Aus</td></tr>\n",
       "\t<tr><td>Nao</td><td>Aus</td></tr>\n",
       "\t<tr><td>Nao</td><td>Aus</td></tr>\n",
       "\t<tr><td>Nao</td><td>Aus</td></tr>\n",
       "\t<tr><td>Nao</td><td>Aus</td></tr>\n",
       "\t<tr><td>Nao</td><td>Aus</td></tr>\n",
       "\t<tr><td>Nao</td><td>Aus</td></tr>\n",
       "\t<tr><td>Nao</td><td>Aus</td></tr>\n",
       "\t<tr><td>Nao</td><td>Aus</td></tr>\n",
       "\t<tr><td>Nao</td><td>Aus</td></tr>\n",
       "\t<tr><td>Nao</td><td>Aus</td></tr>\n",
       "</tbody>\n",
       "</table>\n"
      ],
      "text/latex": [
       "A data.frame: 192 × 2\n",
       "\\begin{tabular}{ll}\n",
       " Fuma & Infa\\\\\n",
       " <chr> & <chr>\\\\\n",
       "\\hline\n",
       "\t Sim & Pres\\\\\n",
       "\t Sim & Pres\\\\\n",
       "\t Sim & Pres\\\\\n",
       "\t Sim & Pres\\\\\n",
       "\t Sim & Pres\\\\\n",
       "\t Sim & Pres\\\\\n",
       "\t Sim & Pres\\\\\n",
       "\t Sim & Pres\\\\\n",
       "\t Sim & Pres\\\\\n",
       "\t Sim & Pres\\\\\n",
       "\t Sim & Pres\\\\\n",
       "\t Sim & Pres\\\\\n",
       "\t Sim & Pres\\\\\n",
       "\t Sim & Pres\\\\\n",
       "\t Sim & Pres\\\\\n",
       "\t Sim & Pres\\\\\n",
       "\t Sim & Pres\\\\\n",
       "\t Sim & Aus \\\\\n",
       "\t Sim & Aus \\\\\n",
       "\t Sim & Aus \\\\\n",
       "\t Sim & Aus \\\\\n",
       "\t Sim & Aus \\\\\n",
       "\t Sim & Aus \\\\\n",
       "\t Sim & Aus \\\\\n",
       "\t Sim & Aus \\\\\n",
       "\t Sim & Aus \\\\\n",
       "\t Sim & Aus \\\\\n",
       "\t Sim & Aus \\\\\n",
       "\t Sim & Aus \\\\\n",
       "\t Sim & Aus \\\\\n",
       "\t ⋮ & ⋮\\\\\n",
       "\t Nao & Aus\\\\\n",
       "\t Nao & Aus\\\\\n",
       "\t Nao & Aus\\\\\n",
       "\t Nao & Aus\\\\\n",
       "\t Nao & Aus\\\\\n",
       "\t Nao & Aus\\\\\n",
       "\t Nao & Aus\\\\\n",
       "\t Nao & Aus\\\\\n",
       "\t Nao & Aus\\\\\n",
       "\t Nao & Aus\\\\\n",
       "\t Nao & Aus\\\\\n",
       "\t Nao & Aus\\\\\n",
       "\t Nao & Aus\\\\\n",
       "\t Nao & Aus\\\\\n",
       "\t Nao & Aus\\\\\n",
       "\t Nao & Aus\\\\\n",
       "\t Nao & Aus\\\\\n",
       "\t Nao & Aus\\\\\n",
       "\t Nao & Aus\\\\\n",
       "\t Nao & Aus\\\\\n",
       "\t Nao & Aus\\\\\n",
       "\t Nao & Aus\\\\\n",
       "\t Nao & Aus\\\\\n",
       "\t Nao & Aus\\\\\n",
       "\t Nao & Aus\\\\\n",
       "\t Nao & Aus\\\\\n",
       "\t Nao & Aus\\\\\n",
       "\t Nao & Aus\\\\\n",
       "\t Nao & Aus\\\\\n",
       "\t Nao & Aus\\\\\n",
       "\\end{tabular}\n"
      ],
      "text/markdown": [
       "\n",
       "A data.frame: 192 × 2\n",
       "\n",
       "| Fuma &lt;chr&gt; | Infa &lt;chr&gt; |\n",
       "|---|---|\n",
       "| Sim | Pres |\n",
       "| Sim | Pres |\n",
       "| Sim | Pres |\n",
       "| Sim | Pres |\n",
       "| Sim | Pres |\n",
       "| Sim | Pres |\n",
       "| Sim | Pres |\n",
       "| Sim | Pres |\n",
       "| Sim | Pres |\n",
       "| Sim | Pres |\n",
       "| Sim | Pres |\n",
       "| Sim | Pres |\n",
       "| Sim | Pres |\n",
       "| Sim | Pres |\n",
       "| Sim | Pres |\n",
       "| Sim | Pres |\n",
       "| Sim | Pres |\n",
       "| Sim | Aus  |\n",
       "| Sim | Aus  |\n",
       "| Sim | Aus  |\n",
       "| Sim | Aus  |\n",
       "| Sim | Aus  |\n",
       "| Sim | Aus  |\n",
       "| Sim | Aus  |\n",
       "| Sim | Aus  |\n",
       "| Sim | Aus  |\n",
       "| Sim | Aus  |\n",
       "| Sim | Aus  |\n",
       "| Sim | Aus  |\n",
       "| Sim | Aus  |\n",
       "| ⋮ | ⋮ |\n",
       "| Nao | Aus |\n",
       "| Nao | Aus |\n",
       "| Nao | Aus |\n",
       "| Nao | Aus |\n",
       "| Nao | Aus |\n",
       "| Nao | Aus |\n",
       "| Nao | Aus |\n",
       "| Nao | Aus |\n",
       "| Nao | Aus |\n",
       "| Nao | Aus |\n",
       "| Nao | Aus |\n",
       "| Nao | Aus |\n",
       "| Nao | Aus |\n",
       "| Nao | Aus |\n",
       "| Nao | Aus |\n",
       "| Nao | Aus |\n",
       "| Nao | Aus |\n",
       "| Nao | Aus |\n",
       "| Nao | Aus |\n",
       "| Nao | Aus |\n",
       "| Nao | Aus |\n",
       "| Nao | Aus |\n",
       "| Nao | Aus |\n",
       "| Nao | Aus |\n",
       "| Nao | Aus |\n",
       "| Nao | Aus |\n",
       "| Nao | Aus |\n",
       "| Nao | Aus |\n",
       "| Nao | Aus |\n",
       "| Nao | Aus |\n",
       "\n"
      ],
      "text/plain": [
       "    Fuma Infa\n",
       "1   Sim  Pres\n",
       "2   Sim  Pres\n",
       "3   Sim  Pres\n",
       "4   Sim  Pres\n",
       "5   Sim  Pres\n",
       "6   Sim  Pres\n",
       "7   Sim  Pres\n",
       "8   Sim  Pres\n",
       "9   Sim  Pres\n",
       "10  Sim  Pres\n",
       "11  Sim  Pres\n",
       "12  Sim  Pres\n",
       "13  Sim  Pres\n",
       "14  Sim  Pres\n",
       "15  Sim  Pres\n",
       "16  Sim  Pres\n",
       "17  Sim  Pres\n",
       "18  Sim  Aus \n",
       "19  Sim  Aus \n",
       "20  Sim  Aus \n",
       "21  Sim  Aus \n",
       "22  Sim  Aus \n",
       "23  Sim  Aus \n",
       "24  Sim  Aus \n",
       "25  Sim  Aus \n",
       "26  Sim  Aus \n",
       "27  Sim  Aus \n",
       "28  Sim  Aus \n",
       "29  Sim  Aus \n",
       "30  Sim  Aus \n",
       "⋮   ⋮    ⋮   \n",
       "163 Nao  Aus \n",
       "164 Nao  Aus \n",
       "165 Nao  Aus \n",
       "166 Nao  Aus \n",
       "167 Nao  Aus \n",
       "168 Nao  Aus \n",
       "169 Nao  Aus \n",
       "170 Nao  Aus \n",
       "171 Nao  Aus \n",
       "172 Nao  Aus \n",
       "173 Nao  Aus \n",
       "174 Nao  Aus \n",
       "175 Nao  Aus \n",
       "176 Nao  Aus \n",
       "177 Nao  Aus \n",
       "178 Nao  Aus \n",
       "179 Nao  Aus \n",
       "180 Nao  Aus \n",
       "181 Nao  Aus \n",
       "182 Nao  Aus \n",
       "183 Nao  Aus \n",
       "184 Nao  Aus \n",
       "185 Nao  Aus \n",
       "186 Nao  Aus \n",
       "187 Nao  Aus \n",
       "188 Nao  Aus \n",
       "189 Nao  Aus \n",
       "190 Nao  Aus \n",
       "191 Nao  Aus \n",
       "192 Nao  Aus "
      ]
     },
     "metadata": {},
     "output_type": "display_data"
    },
    {
     "data": {
      "text/html": [
       "<style>\n",
       ".list-inline {list-style: none; margin:0; padding: 0}\n",
       ".list-inline>li {display: inline-block}\n",
       ".list-inline>li:not(:last-child)::after {content: \"\\00b7\"; padding: 0 .5ex}\n",
       "</style>\n",
       "<ol class=list-inline><li>'Sim'</li><li>'Sim'</li><li>'Sim'</li><li>'Sim'</li><li>'Sim'</li><li>'Sim'</li><li>'Sim'</li><li>'Sim'</li><li>'Sim'</li><li>'Sim'</li><li>'Sim'</li><li>'Sim'</li><li>'Sim'</li><li>'Sim'</li><li>'Sim'</li><li>'Sim'</li><li>'Sim'</li><li>'Sim'</li><li>'Sim'</li><li>'Sim'</li><li>'Sim'</li><li>'Sim'</li><li>'Sim'</li><li>'Sim'</li><li>'Sim'</li><li>'Sim'</li><li>'Sim'</li><li>'Sim'</li><li>'Sim'</li><li>'Sim'</li><li>'Sim'</li><li>'Sim'</li><li>'Sim'</li><li>'Sim'</li><li>'Sim'</li><li>'Sim'</li><li>'Sim'</li><li>'Sim'</li><li>'Sim'</li><li>'Sim'</li><li>'Sim'</li><li>'Sim'</li><li>'Sim'</li><li>'Sim'</li><li>'Sim'</li><li>'Sim'</li><li>'Sim'</li><li>'Sim'</li><li>'Sim'</li><li>'Sim'</li><li>'Sim'</li><li>'Sim'</li><li>'Sim'</li><li>'Sim'</li><li>'Sim'</li><li>'Sim'</li><li>'Sim'</li><li>'Sim'</li><li>'Sim'</li><li>'Sim'</li><li>'Sim'</li><li>'Sim'</li><li>'Sim'</li><li>'Sim'</li><li>'Sim'</li><li>'Sim'</li><li>'Sim'</li><li>'Sim'</li><li>'Sim'</li><li>'Sim'</li><li>'Sim'</li><li>'Sim'</li><li>'Sim'</li><li>'Sim'</li><li>'Sim'</li><li>'Sim'</li><li>'Sim'</li><li>'Sim'</li><li>'Sim'</li><li>'Sim'</li><li>'Sim'</li><li>'Sim'</li><li>'Sim'</li><li>'Sim'</li><li>'Sim'</li><li>'Sim'</li><li>'Sim'</li><li>'Sim'</li><li>'Sim'</li><li>'Sim'</li><li>'Sim'</li><li>'Sim'</li><li>'Sim'</li><li>'Sim'</li><li>'Sim'</li><li>'Sim'</li><li>'Sim'</li><li>'Sim'</li><li>'Sim'</li><li>'Sim'</li><li>'Nao'</li><li>'Nao'</li><li>'Nao'</li><li>'Nao'</li><li>'Nao'</li><li>'Nao'</li><li>'Nao'</li><li>'Nao'</li><li>'Nao'</li><li>'Nao'</li><li>'Nao'</li><li>'Nao'</li><li>'Nao'</li><li>'Nao'</li><li>'Nao'</li><li>'Nao'</li><li>'Nao'</li><li>'Nao'</li><li>'Nao'</li><li>'Nao'</li><li>'Nao'</li><li>'Nao'</li><li>'Nao'</li><li>'Nao'</li><li>'Nao'</li><li>'Nao'</li><li>'Nao'</li><li>'Nao'</li><li>'Nao'</li><li>'Nao'</li><li>'Nao'</li><li>'Nao'</li><li>'Nao'</li><li>'Nao'</li><li>'Nao'</li><li>'Nao'</li><li>'Nao'</li><li>'Nao'</li><li>'Nao'</li><li>'Nao'</li><li>'Nao'</li><li>'Nao'</li><li>'Nao'</li><li>'Nao'</li><li>'Nao'</li><li>'Nao'</li><li>'Nao'</li><li>'Nao'</li><li>'Nao'</li><li>'Nao'</li><li>'Nao'</li><li>'Nao'</li><li>'Nao'</li><li>'Nao'</li><li>'Nao'</li><li>'Nao'</li><li>'Nao'</li><li>'Nao'</li><li>'Nao'</li><li>'Nao'</li><li>'Nao'</li><li>'Nao'</li><li>'Nao'</li><li>'Nao'</li><li>'Nao'</li><li>'Nao'</li><li>'Nao'</li><li>'Nao'</li><li>'Nao'</li><li>'Nao'</li><li>'Nao'</li><li>'Nao'</li><li>'Nao'</li><li>'Nao'</li><li>'Nao'</li><li>'Nao'</li><li>'Nao'</li><li>'Nao'</li><li>'Nao'</li><li>'Nao'</li><li>'Nao'</li><li>'Nao'</li><li>'Nao'</li><li>'Nao'</li><li>'Nao'</li><li>'Nao'</li><li>'Nao'</li><li>'Nao'</li><li>'Nao'</li><li>'Nao'</li><li>'Nao'</li><li>'Nao'</li></ol>\n"
      ],
      "text/latex": [
       "\\begin{enumerate*}\n",
       "\\item 'Sim'\n",
       "\\item 'Sim'\n",
       "\\item 'Sim'\n",
       "\\item 'Sim'\n",
       "\\item 'Sim'\n",
       "\\item 'Sim'\n",
       "\\item 'Sim'\n",
       "\\item 'Sim'\n",
       "\\item 'Sim'\n",
       "\\item 'Sim'\n",
       "\\item 'Sim'\n",
       "\\item 'Sim'\n",
       "\\item 'Sim'\n",
       "\\item 'Sim'\n",
       "\\item 'Sim'\n",
       "\\item 'Sim'\n",
       "\\item 'Sim'\n",
       "\\item 'Sim'\n",
       "\\item 'Sim'\n",
       "\\item 'Sim'\n",
       "\\item 'Sim'\n",
       "\\item 'Sim'\n",
       "\\item 'Sim'\n",
       "\\item 'Sim'\n",
       "\\item 'Sim'\n",
       "\\item 'Sim'\n",
       "\\item 'Sim'\n",
       "\\item 'Sim'\n",
       "\\item 'Sim'\n",
       "\\item 'Sim'\n",
       "\\item 'Sim'\n",
       "\\item 'Sim'\n",
       "\\item 'Sim'\n",
       "\\item 'Sim'\n",
       "\\item 'Sim'\n",
       "\\item 'Sim'\n",
       "\\item 'Sim'\n",
       "\\item 'Sim'\n",
       "\\item 'Sim'\n",
       "\\item 'Sim'\n",
       "\\item 'Sim'\n",
       "\\item 'Sim'\n",
       "\\item 'Sim'\n",
       "\\item 'Sim'\n",
       "\\item 'Sim'\n",
       "\\item 'Sim'\n",
       "\\item 'Sim'\n",
       "\\item 'Sim'\n",
       "\\item 'Sim'\n",
       "\\item 'Sim'\n",
       "\\item 'Sim'\n",
       "\\item 'Sim'\n",
       "\\item 'Sim'\n",
       "\\item 'Sim'\n",
       "\\item 'Sim'\n",
       "\\item 'Sim'\n",
       "\\item 'Sim'\n",
       "\\item 'Sim'\n",
       "\\item 'Sim'\n",
       "\\item 'Sim'\n",
       "\\item 'Sim'\n",
       "\\item 'Sim'\n",
       "\\item 'Sim'\n",
       "\\item 'Sim'\n",
       "\\item 'Sim'\n",
       "\\item 'Sim'\n",
       "\\item 'Sim'\n",
       "\\item 'Sim'\n",
       "\\item 'Sim'\n",
       "\\item 'Sim'\n",
       "\\item 'Sim'\n",
       "\\item 'Sim'\n",
       "\\item 'Sim'\n",
       "\\item 'Sim'\n",
       "\\item 'Sim'\n",
       "\\item 'Sim'\n",
       "\\item 'Sim'\n",
       "\\item 'Sim'\n",
       "\\item 'Sim'\n",
       "\\item 'Sim'\n",
       "\\item 'Sim'\n",
       "\\item 'Sim'\n",
       "\\item 'Sim'\n",
       "\\item 'Sim'\n",
       "\\item 'Sim'\n",
       "\\item 'Sim'\n",
       "\\item 'Sim'\n",
       "\\item 'Sim'\n",
       "\\item 'Sim'\n",
       "\\item 'Sim'\n",
       "\\item 'Sim'\n",
       "\\item 'Sim'\n",
       "\\item 'Sim'\n",
       "\\item 'Sim'\n",
       "\\item 'Sim'\n",
       "\\item 'Sim'\n",
       "\\item 'Sim'\n",
       "\\item 'Sim'\n",
       "\\item 'Sim'\n",
       "\\item 'Sim'\n",
       "\\item 'Nao'\n",
       "\\item 'Nao'\n",
       "\\item 'Nao'\n",
       "\\item 'Nao'\n",
       "\\item 'Nao'\n",
       "\\item 'Nao'\n",
       "\\item 'Nao'\n",
       "\\item 'Nao'\n",
       "\\item 'Nao'\n",
       "\\item 'Nao'\n",
       "\\item 'Nao'\n",
       "\\item 'Nao'\n",
       "\\item 'Nao'\n",
       "\\item 'Nao'\n",
       "\\item 'Nao'\n",
       "\\item 'Nao'\n",
       "\\item 'Nao'\n",
       "\\item 'Nao'\n",
       "\\item 'Nao'\n",
       "\\item 'Nao'\n",
       "\\item 'Nao'\n",
       "\\item 'Nao'\n",
       "\\item 'Nao'\n",
       "\\item 'Nao'\n",
       "\\item 'Nao'\n",
       "\\item 'Nao'\n",
       "\\item 'Nao'\n",
       "\\item 'Nao'\n",
       "\\item 'Nao'\n",
       "\\item 'Nao'\n",
       "\\item 'Nao'\n",
       "\\item 'Nao'\n",
       "\\item 'Nao'\n",
       "\\item 'Nao'\n",
       "\\item 'Nao'\n",
       "\\item 'Nao'\n",
       "\\item 'Nao'\n",
       "\\item 'Nao'\n",
       "\\item 'Nao'\n",
       "\\item 'Nao'\n",
       "\\item 'Nao'\n",
       "\\item 'Nao'\n",
       "\\item 'Nao'\n",
       "\\item 'Nao'\n",
       "\\item 'Nao'\n",
       "\\item 'Nao'\n",
       "\\item 'Nao'\n",
       "\\item 'Nao'\n",
       "\\item 'Nao'\n",
       "\\item 'Nao'\n",
       "\\item 'Nao'\n",
       "\\item 'Nao'\n",
       "\\item 'Nao'\n",
       "\\item 'Nao'\n",
       "\\item 'Nao'\n",
       "\\item 'Nao'\n",
       "\\item 'Nao'\n",
       "\\item 'Nao'\n",
       "\\item 'Nao'\n",
       "\\item 'Nao'\n",
       "\\item 'Nao'\n",
       "\\item 'Nao'\n",
       "\\item 'Nao'\n",
       "\\item 'Nao'\n",
       "\\item 'Nao'\n",
       "\\item 'Nao'\n",
       "\\item 'Nao'\n",
       "\\item 'Nao'\n",
       "\\item 'Nao'\n",
       "\\item 'Nao'\n",
       "\\item 'Nao'\n",
       "\\item 'Nao'\n",
       "\\item 'Nao'\n",
       "\\item 'Nao'\n",
       "\\item 'Nao'\n",
       "\\item 'Nao'\n",
       "\\item 'Nao'\n",
       "\\item 'Nao'\n",
       "\\item 'Nao'\n",
       "\\item 'Nao'\n",
       "\\item 'Nao'\n",
       "\\item 'Nao'\n",
       "\\item 'Nao'\n",
       "\\item 'Nao'\n",
       "\\item 'Nao'\n",
       "\\item 'Nao'\n",
       "\\item 'Nao'\n",
       "\\item 'Nao'\n",
       "\\item 'Nao'\n",
       "\\item 'Nao'\n",
       "\\item 'Nao'\n",
       "\\item 'Nao'\n",
       "\\end{enumerate*}\n"
      ],
      "text/markdown": [
       "1. 'Sim'\n",
       "2. 'Sim'\n",
       "3. 'Sim'\n",
       "4. 'Sim'\n",
       "5. 'Sim'\n",
       "6. 'Sim'\n",
       "7. 'Sim'\n",
       "8. 'Sim'\n",
       "9. 'Sim'\n",
       "10. 'Sim'\n",
       "11. 'Sim'\n",
       "12. 'Sim'\n",
       "13. 'Sim'\n",
       "14. 'Sim'\n",
       "15. 'Sim'\n",
       "16. 'Sim'\n",
       "17. 'Sim'\n",
       "18. 'Sim'\n",
       "19. 'Sim'\n",
       "20. 'Sim'\n",
       "21. 'Sim'\n",
       "22. 'Sim'\n",
       "23. 'Sim'\n",
       "24. 'Sim'\n",
       "25. 'Sim'\n",
       "26. 'Sim'\n",
       "27. 'Sim'\n",
       "28. 'Sim'\n",
       "29. 'Sim'\n",
       "30. 'Sim'\n",
       "31. 'Sim'\n",
       "32. 'Sim'\n",
       "33. 'Sim'\n",
       "34. 'Sim'\n",
       "35. 'Sim'\n",
       "36. 'Sim'\n",
       "37. 'Sim'\n",
       "38. 'Sim'\n",
       "39. 'Sim'\n",
       "40. 'Sim'\n",
       "41. 'Sim'\n",
       "42. 'Sim'\n",
       "43. 'Sim'\n",
       "44. 'Sim'\n",
       "45. 'Sim'\n",
       "46. 'Sim'\n",
       "47. 'Sim'\n",
       "48. 'Sim'\n",
       "49. 'Sim'\n",
       "50. 'Sim'\n",
       "51. 'Sim'\n",
       "52. 'Sim'\n",
       "53. 'Sim'\n",
       "54. 'Sim'\n",
       "55. 'Sim'\n",
       "56. 'Sim'\n",
       "57. 'Sim'\n",
       "58. 'Sim'\n",
       "59. 'Sim'\n",
       "60. 'Sim'\n",
       "61. 'Sim'\n",
       "62. 'Sim'\n",
       "63. 'Sim'\n",
       "64. 'Sim'\n",
       "65. 'Sim'\n",
       "66. 'Sim'\n",
       "67. 'Sim'\n",
       "68. 'Sim'\n",
       "69. 'Sim'\n",
       "70. 'Sim'\n",
       "71. 'Sim'\n",
       "72. 'Sim'\n",
       "73. 'Sim'\n",
       "74. 'Sim'\n",
       "75. 'Sim'\n",
       "76. 'Sim'\n",
       "77. 'Sim'\n",
       "78. 'Sim'\n",
       "79. 'Sim'\n",
       "80. 'Sim'\n",
       "81. 'Sim'\n",
       "82. 'Sim'\n",
       "83. 'Sim'\n",
       "84. 'Sim'\n",
       "85. 'Sim'\n",
       "86. 'Sim'\n",
       "87. 'Sim'\n",
       "88. 'Sim'\n",
       "89. 'Sim'\n",
       "90. 'Sim'\n",
       "91. 'Sim'\n",
       "92. 'Sim'\n",
       "93. 'Sim'\n",
       "94. 'Sim'\n",
       "95. 'Sim'\n",
       "96. 'Sim'\n",
       "97. 'Sim'\n",
       "98. 'Sim'\n",
       "99. 'Sim'\n",
       "100. 'Sim'\n",
       "101. 'Nao'\n",
       "102. 'Nao'\n",
       "103. 'Nao'\n",
       "104. 'Nao'\n",
       "105. 'Nao'\n",
       "106. 'Nao'\n",
       "107. 'Nao'\n",
       "108. 'Nao'\n",
       "109. 'Nao'\n",
       "110. 'Nao'\n",
       "111. 'Nao'\n",
       "112. 'Nao'\n",
       "113. 'Nao'\n",
       "114. 'Nao'\n",
       "115. 'Nao'\n",
       "116. 'Nao'\n",
       "117. 'Nao'\n",
       "118. 'Nao'\n",
       "119. 'Nao'\n",
       "120. 'Nao'\n",
       "121. 'Nao'\n",
       "122. 'Nao'\n",
       "123. 'Nao'\n",
       "124. 'Nao'\n",
       "125. 'Nao'\n",
       "126. 'Nao'\n",
       "127. 'Nao'\n",
       "128. 'Nao'\n",
       "129. 'Nao'\n",
       "130. 'Nao'\n",
       "131. 'Nao'\n",
       "132. 'Nao'\n",
       "133. 'Nao'\n",
       "134. 'Nao'\n",
       "135. 'Nao'\n",
       "136. 'Nao'\n",
       "137. 'Nao'\n",
       "138. 'Nao'\n",
       "139. 'Nao'\n",
       "140. 'Nao'\n",
       "141. 'Nao'\n",
       "142. 'Nao'\n",
       "143. 'Nao'\n",
       "144. 'Nao'\n",
       "145. 'Nao'\n",
       "146. 'Nao'\n",
       "147. 'Nao'\n",
       "148. 'Nao'\n",
       "149. 'Nao'\n",
       "150. 'Nao'\n",
       "151. 'Nao'\n",
       "152. 'Nao'\n",
       "153. 'Nao'\n",
       "154. 'Nao'\n",
       "155. 'Nao'\n",
       "156. 'Nao'\n",
       "157. 'Nao'\n",
       "158. 'Nao'\n",
       "159. 'Nao'\n",
       "160. 'Nao'\n",
       "161. 'Nao'\n",
       "162. 'Nao'\n",
       "163. 'Nao'\n",
       "164. 'Nao'\n",
       "165. 'Nao'\n",
       "166. 'Nao'\n",
       "167. 'Nao'\n",
       "168. 'Nao'\n",
       "169. 'Nao'\n",
       "170. 'Nao'\n",
       "171. 'Nao'\n",
       "172. 'Nao'\n",
       "173. 'Nao'\n",
       "174. 'Nao'\n",
       "175. 'Nao'\n",
       "176. 'Nao'\n",
       "177. 'Nao'\n",
       "178. 'Nao'\n",
       "179. 'Nao'\n",
       "180. 'Nao'\n",
       "181. 'Nao'\n",
       "182. 'Nao'\n",
       "183. 'Nao'\n",
       "184. 'Nao'\n",
       "185. 'Nao'\n",
       "186. 'Nao'\n",
       "187. 'Nao'\n",
       "188. 'Nao'\n",
       "189. 'Nao'\n",
       "190. 'Nao'\n",
       "191. 'Nao'\n",
       "192. 'Nao'\n",
       "\n",
       "\n"
      ],
      "text/plain": [
       "  [1] \"Sim\" \"Sim\" \"Sim\" \"Sim\" \"Sim\" \"Sim\" \"Sim\" \"Sim\" \"Sim\" \"Sim\" \"Sim\" \"Sim\"\n",
       " [13] \"Sim\" \"Sim\" \"Sim\" \"Sim\" \"Sim\" \"Sim\" \"Sim\" \"Sim\" \"Sim\" \"Sim\" \"Sim\" \"Sim\"\n",
       " [25] \"Sim\" \"Sim\" \"Sim\" \"Sim\" \"Sim\" \"Sim\" \"Sim\" \"Sim\" \"Sim\" \"Sim\" \"Sim\" \"Sim\"\n",
       " [37] \"Sim\" \"Sim\" \"Sim\" \"Sim\" \"Sim\" \"Sim\" \"Sim\" \"Sim\" \"Sim\" \"Sim\" \"Sim\" \"Sim\"\n",
       " [49] \"Sim\" \"Sim\" \"Sim\" \"Sim\" \"Sim\" \"Sim\" \"Sim\" \"Sim\" \"Sim\" \"Sim\" \"Sim\" \"Sim\"\n",
       " [61] \"Sim\" \"Sim\" \"Sim\" \"Sim\" \"Sim\" \"Sim\" \"Sim\" \"Sim\" \"Sim\" \"Sim\" \"Sim\" \"Sim\"\n",
       " [73] \"Sim\" \"Sim\" \"Sim\" \"Sim\" \"Sim\" \"Sim\" \"Sim\" \"Sim\" \"Sim\" \"Sim\" \"Sim\" \"Sim\"\n",
       " [85] \"Sim\" \"Sim\" \"Sim\" \"Sim\" \"Sim\" \"Sim\" \"Sim\" \"Sim\" \"Sim\" \"Sim\" \"Sim\" \"Sim\"\n",
       " [97] \"Sim\" \"Sim\" \"Sim\" \"Sim\" \"Nao\" \"Nao\" \"Nao\" \"Nao\" \"Nao\" \"Nao\" \"Nao\" \"Nao\"\n",
       "[109] \"Nao\" \"Nao\" \"Nao\" \"Nao\" \"Nao\" \"Nao\" \"Nao\" \"Nao\" \"Nao\" \"Nao\" \"Nao\" \"Nao\"\n",
       "[121] \"Nao\" \"Nao\" \"Nao\" \"Nao\" \"Nao\" \"Nao\" \"Nao\" \"Nao\" \"Nao\" \"Nao\" \"Nao\" \"Nao\"\n",
       "[133] \"Nao\" \"Nao\" \"Nao\" \"Nao\" \"Nao\" \"Nao\" \"Nao\" \"Nao\" \"Nao\" \"Nao\" \"Nao\" \"Nao\"\n",
       "[145] \"Nao\" \"Nao\" \"Nao\" \"Nao\" \"Nao\" \"Nao\" \"Nao\" \"Nao\" \"Nao\" \"Nao\" \"Nao\" \"Nao\"\n",
       "[157] \"Nao\" \"Nao\" \"Nao\" \"Nao\" \"Nao\" \"Nao\" \"Nao\" \"Nao\" \"Nao\" \"Nao\" \"Nao\" \"Nao\"\n",
       "[169] \"Nao\" \"Nao\" \"Nao\" \"Nao\" \"Nao\" \"Nao\" \"Nao\" \"Nao\" \"Nao\" \"Nao\" \"Nao\" \"Nao\"\n",
       "[181] \"Nao\" \"Nao\" \"Nao\" \"Nao\" \"Nao\" \"Nao\" \"Nao\" \"Nao\" \"Nao\" \"Nao\" \"Nao\" \"Nao\""
      ]
     },
     "metadata": {},
     "output_type": "display_data"
    },
    {
     "data": {
      "text/html": [
       "<style>\n",
       ".list-inline {list-style: none; margin:0; padding: 0}\n",
       ".list-inline>li {display: inline-block}\n",
       ".list-inline>li:not(:last-child)::after {content: \"\\00b7\"; padding: 0 .5ex}\n",
       "</style>\n",
       "<ol class=list-inline><li>'Pres'</li><li>'Pres'</li><li>'Pres'</li><li>'Pres'</li><li>'Pres'</li><li>'Pres'</li><li>'Pres'</li><li>'Pres'</li><li>'Pres'</li><li>'Pres'</li><li>'Pres'</li><li>'Pres'</li><li>'Pres'</li><li>'Pres'</li><li>'Pres'</li><li>'Pres'</li><li>'Pres'</li><li>'Aus'</li><li>'Aus'</li><li>'Aus'</li><li>'Aus'</li><li>'Aus'</li><li>'Aus'</li><li>'Aus'</li><li>'Aus'</li><li>'Aus'</li><li>'Aus'</li><li>'Aus'</li><li>'Aus'</li><li>'Aus'</li><li>'Aus'</li><li>'Aus'</li><li>'Aus'</li><li>'Aus'</li><li>'Aus'</li><li>'Aus'</li><li>'Aus'</li><li>'Aus'</li><li>'Aus'</li><li>'Aus'</li><li>'Aus'</li><li>'Aus'</li><li>'Aus'</li><li>'Aus'</li><li>'Aus'</li><li>'Aus'</li><li>'Aus'</li><li>'Aus'</li><li>'Aus'</li><li>'Aus'</li><li>'Aus'</li><li>'Aus'</li><li>'Aus'</li><li>'Aus'</li><li>'Aus'</li><li>'Aus'</li><li>'Aus'</li><li>'Aus'</li><li>'Aus'</li><li>'Aus'</li><li>'Aus'</li><li>'Aus'</li><li>'Aus'</li><li>'Aus'</li><li>'Aus'</li><li>'Aus'</li><li>'Aus'</li><li>'Aus'</li><li>'Aus'</li><li>'Aus'</li><li>'Aus'</li><li>'Aus'</li><li>'Aus'</li><li>'Aus'</li><li>'Aus'</li><li>'Aus'</li><li>'Aus'</li><li>'Aus'</li><li>'Aus'</li><li>'Aus'</li><li>'Aus'</li><li>'Aus'</li><li>'Aus'</li><li>'Aus'</li><li>'Aus'</li><li>'Aus'</li><li>'Aus'</li><li>'Aus'</li><li>'Aus'</li><li>'Aus'</li><li>'Aus'</li><li>'Aus'</li><li>'Aus'</li><li>'Aus'</li><li>'Aus'</li><li>'Aus'</li><li>'Aus'</li><li>'Aus'</li><li>'Aus'</li><li>'Aus'</li><li>'Pres'</li><li>'Pres'</li><li>'Pres'</li><li>'Pres'</li><li>'Pres'</li><li>'Pres'</li><li>'Aus'</li><li>'Aus'</li><li>'Aus'</li><li>'Aus'</li><li>'Aus'</li><li>'Aus'</li><li>'Aus'</li><li>'Aus'</li><li>'Aus'</li><li>'Aus'</li><li>'Aus'</li><li>'Aus'</li><li>'Aus'</li><li>'Aus'</li><li>'Aus'</li><li>'Aus'</li><li>'Aus'</li><li>'Aus'</li><li>'Aus'</li><li>'Aus'</li><li>'Aus'</li><li>'Aus'</li><li>'Aus'</li><li>'Aus'</li><li>'Aus'</li><li>'Aus'</li><li>'Aus'</li><li>'Aus'</li><li>'Aus'</li><li>'Aus'</li><li>'Aus'</li><li>'Aus'</li><li>'Aus'</li><li>'Aus'</li><li>'Aus'</li><li>'Aus'</li><li>'Aus'</li><li>'Aus'</li><li>'Aus'</li><li>'Aus'</li><li>'Aus'</li><li>'Aus'</li><li>'Aus'</li><li>'Aus'</li><li>'Aus'</li><li>'Aus'</li><li>'Aus'</li><li>'Aus'</li><li>'Aus'</li><li>'Aus'</li><li>'Aus'</li><li>'Aus'</li><li>'Aus'</li><li>'Aus'</li><li>'Aus'</li><li>'Aus'</li><li>'Aus'</li><li>'Aus'</li><li>'Aus'</li><li>'Aus'</li><li>'Aus'</li><li>'Aus'</li><li>'Aus'</li><li>'Aus'</li><li>'Aus'</li><li>'Aus'</li><li>'Aus'</li><li>'Aus'</li><li>'Aus'</li><li>'Aus'</li><li>'Aus'</li><li>'Aus'</li><li>'Aus'</li><li>'Aus'</li><li>'Aus'</li><li>'Aus'</li><li>'Aus'</li><li>'Aus'</li><li>'Aus'</li><li>'Aus'</li><li>'Aus'</li><li>'Aus'</li><li>'Aus'</li><li>'Aus'</li><li>'Aus'</li><li>'Aus'</li></ol>\n"
      ],
      "text/latex": [
       "\\begin{enumerate*}\n",
       "\\item 'Pres'\n",
       "\\item 'Pres'\n",
       "\\item 'Pres'\n",
       "\\item 'Pres'\n",
       "\\item 'Pres'\n",
       "\\item 'Pres'\n",
       "\\item 'Pres'\n",
       "\\item 'Pres'\n",
       "\\item 'Pres'\n",
       "\\item 'Pres'\n",
       "\\item 'Pres'\n",
       "\\item 'Pres'\n",
       "\\item 'Pres'\n",
       "\\item 'Pres'\n",
       "\\item 'Pres'\n",
       "\\item 'Pres'\n",
       "\\item 'Pres'\n",
       "\\item 'Aus'\n",
       "\\item 'Aus'\n",
       "\\item 'Aus'\n",
       "\\item 'Aus'\n",
       "\\item 'Aus'\n",
       "\\item 'Aus'\n",
       "\\item 'Aus'\n",
       "\\item 'Aus'\n",
       "\\item 'Aus'\n",
       "\\item 'Aus'\n",
       "\\item 'Aus'\n",
       "\\item 'Aus'\n",
       "\\item 'Aus'\n",
       "\\item 'Aus'\n",
       "\\item 'Aus'\n",
       "\\item 'Aus'\n",
       "\\item 'Aus'\n",
       "\\item 'Aus'\n",
       "\\item 'Aus'\n",
       "\\item 'Aus'\n",
       "\\item 'Aus'\n",
       "\\item 'Aus'\n",
       "\\item 'Aus'\n",
       "\\item 'Aus'\n",
       "\\item 'Aus'\n",
       "\\item 'Aus'\n",
       "\\item 'Aus'\n",
       "\\item 'Aus'\n",
       "\\item 'Aus'\n",
       "\\item 'Aus'\n",
       "\\item 'Aus'\n",
       "\\item 'Aus'\n",
       "\\item 'Aus'\n",
       "\\item 'Aus'\n",
       "\\item 'Aus'\n",
       "\\item 'Aus'\n",
       "\\item 'Aus'\n",
       "\\item 'Aus'\n",
       "\\item 'Aus'\n",
       "\\item 'Aus'\n",
       "\\item 'Aus'\n",
       "\\item 'Aus'\n",
       "\\item 'Aus'\n",
       "\\item 'Aus'\n",
       "\\item 'Aus'\n",
       "\\item 'Aus'\n",
       "\\item 'Aus'\n",
       "\\item 'Aus'\n",
       "\\item 'Aus'\n",
       "\\item 'Aus'\n",
       "\\item 'Aus'\n",
       "\\item 'Aus'\n",
       "\\item 'Aus'\n",
       "\\item 'Aus'\n",
       "\\item 'Aus'\n",
       "\\item 'Aus'\n",
       "\\item 'Aus'\n",
       "\\item 'Aus'\n",
       "\\item 'Aus'\n",
       "\\item 'Aus'\n",
       "\\item 'Aus'\n",
       "\\item 'Aus'\n",
       "\\item 'Aus'\n",
       "\\item 'Aus'\n",
       "\\item 'Aus'\n",
       "\\item 'Aus'\n",
       "\\item 'Aus'\n",
       "\\item 'Aus'\n",
       "\\item 'Aus'\n",
       "\\item 'Aus'\n",
       "\\item 'Aus'\n",
       "\\item 'Aus'\n",
       "\\item 'Aus'\n",
       "\\item 'Aus'\n",
       "\\item 'Aus'\n",
       "\\item 'Aus'\n",
       "\\item 'Aus'\n",
       "\\item 'Aus'\n",
       "\\item 'Aus'\n",
       "\\item 'Aus'\n",
       "\\item 'Aus'\n",
       "\\item 'Aus'\n",
       "\\item 'Aus'\n",
       "\\item 'Pres'\n",
       "\\item 'Pres'\n",
       "\\item 'Pres'\n",
       "\\item 'Pres'\n",
       "\\item 'Pres'\n",
       "\\item 'Pres'\n",
       "\\item 'Aus'\n",
       "\\item 'Aus'\n",
       "\\item 'Aus'\n",
       "\\item 'Aus'\n",
       "\\item 'Aus'\n",
       "\\item 'Aus'\n",
       "\\item 'Aus'\n",
       "\\item 'Aus'\n",
       "\\item 'Aus'\n",
       "\\item 'Aus'\n",
       "\\item 'Aus'\n",
       "\\item 'Aus'\n",
       "\\item 'Aus'\n",
       "\\item 'Aus'\n",
       "\\item 'Aus'\n",
       "\\item 'Aus'\n",
       "\\item 'Aus'\n",
       "\\item 'Aus'\n",
       "\\item 'Aus'\n",
       "\\item 'Aus'\n",
       "\\item 'Aus'\n",
       "\\item 'Aus'\n",
       "\\item 'Aus'\n",
       "\\item 'Aus'\n",
       "\\item 'Aus'\n",
       "\\item 'Aus'\n",
       "\\item 'Aus'\n",
       "\\item 'Aus'\n",
       "\\item 'Aus'\n",
       "\\item 'Aus'\n",
       "\\item 'Aus'\n",
       "\\item 'Aus'\n",
       "\\item 'Aus'\n",
       "\\item 'Aus'\n",
       "\\item 'Aus'\n",
       "\\item 'Aus'\n",
       "\\item 'Aus'\n",
       "\\item 'Aus'\n",
       "\\item 'Aus'\n",
       "\\item 'Aus'\n",
       "\\item 'Aus'\n",
       "\\item 'Aus'\n",
       "\\item 'Aus'\n",
       "\\item 'Aus'\n",
       "\\item 'Aus'\n",
       "\\item 'Aus'\n",
       "\\item 'Aus'\n",
       "\\item 'Aus'\n",
       "\\item 'Aus'\n",
       "\\item 'Aus'\n",
       "\\item 'Aus'\n",
       "\\item 'Aus'\n",
       "\\item 'Aus'\n",
       "\\item 'Aus'\n",
       "\\item 'Aus'\n",
       "\\item 'Aus'\n",
       "\\item 'Aus'\n",
       "\\item 'Aus'\n",
       "\\item 'Aus'\n",
       "\\item 'Aus'\n",
       "\\item 'Aus'\n",
       "\\item 'Aus'\n",
       "\\item 'Aus'\n",
       "\\item 'Aus'\n",
       "\\item 'Aus'\n",
       "\\item 'Aus'\n",
       "\\item 'Aus'\n",
       "\\item 'Aus'\n",
       "\\item 'Aus'\n",
       "\\item 'Aus'\n",
       "\\item 'Aus'\n",
       "\\item 'Aus'\n",
       "\\item 'Aus'\n",
       "\\item 'Aus'\n",
       "\\item 'Aus'\n",
       "\\item 'Aus'\n",
       "\\item 'Aus'\n",
       "\\item 'Aus'\n",
       "\\item 'Aus'\n",
       "\\item 'Aus'\n",
       "\\item 'Aus'\n",
       "\\item 'Aus'\n",
       "\\item 'Aus'\n",
       "\\item 'Aus'\n",
       "\\item 'Aus'\n",
       "\\item 'Aus'\n",
       "\\end{enumerate*}\n"
      ],
      "text/markdown": [
       "1. 'Pres'\n",
       "2. 'Pres'\n",
       "3. 'Pres'\n",
       "4. 'Pres'\n",
       "5. 'Pres'\n",
       "6. 'Pres'\n",
       "7. 'Pres'\n",
       "8. 'Pres'\n",
       "9. 'Pres'\n",
       "10. 'Pres'\n",
       "11. 'Pres'\n",
       "12. 'Pres'\n",
       "13. 'Pres'\n",
       "14. 'Pres'\n",
       "15. 'Pres'\n",
       "16. 'Pres'\n",
       "17. 'Pres'\n",
       "18. 'Aus'\n",
       "19. 'Aus'\n",
       "20. 'Aus'\n",
       "21. 'Aus'\n",
       "22. 'Aus'\n",
       "23. 'Aus'\n",
       "24. 'Aus'\n",
       "25. 'Aus'\n",
       "26. 'Aus'\n",
       "27. 'Aus'\n",
       "28. 'Aus'\n",
       "29. 'Aus'\n",
       "30. 'Aus'\n",
       "31. 'Aus'\n",
       "32. 'Aus'\n",
       "33. 'Aus'\n",
       "34. 'Aus'\n",
       "35. 'Aus'\n",
       "36. 'Aus'\n",
       "37. 'Aus'\n",
       "38. 'Aus'\n",
       "39. 'Aus'\n",
       "40. 'Aus'\n",
       "41. 'Aus'\n",
       "42. 'Aus'\n",
       "43. 'Aus'\n",
       "44. 'Aus'\n",
       "45. 'Aus'\n",
       "46. 'Aus'\n",
       "47. 'Aus'\n",
       "48. 'Aus'\n",
       "49. 'Aus'\n",
       "50. 'Aus'\n",
       "51. 'Aus'\n",
       "52. 'Aus'\n",
       "53. 'Aus'\n",
       "54. 'Aus'\n",
       "55. 'Aus'\n",
       "56. 'Aus'\n",
       "57. 'Aus'\n",
       "58. 'Aus'\n",
       "59. 'Aus'\n",
       "60. 'Aus'\n",
       "61. 'Aus'\n",
       "62. 'Aus'\n",
       "63. 'Aus'\n",
       "64. 'Aus'\n",
       "65. 'Aus'\n",
       "66. 'Aus'\n",
       "67. 'Aus'\n",
       "68. 'Aus'\n",
       "69. 'Aus'\n",
       "70. 'Aus'\n",
       "71. 'Aus'\n",
       "72. 'Aus'\n",
       "73. 'Aus'\n",
       "74. 'Aus'\n",
       "75. 'Aus'\n",
       "76. 'Aus'\n",
       "77. 'Aus'\n",
       "78. 'Aus'\n",
       "79. 'Aus'\n",
       "80. 'Aus'\n",
       "81. 'Aus'\n",
       "82. 'Aus'\n",
       "83. 'Aus'\n",
       "84. 'Aus'\n",
       "85. 'Aus'\n",
       "86. 'Aus'\n",
       "87. 'Aus'\n",
       "88. 'Aus'\n",
       "89. 'Aus'\n",
       "90. 'Aus'\n",
       "91. 'Aus'\n",
       "92. 'Aus'\n",
       "93. 'Aus'\n",
       "94. 'Aus'\n",
       "95. 'Aus'\n",
       "96. 'Aus'\n",
       "97. 'Aus'\n",
       "98. 'Aus'\n",
       "99. 'Aus'\n",
       "100. 'Aus'\n",
       "101. 'Pres'\n",
       "102. 'Pres'\n",
       "103. 'Pres'\n",
       "104. 'Pres'\n",
       "105. 'Pres'\n",
       "106. 'Pres'\n",
       "107. 'Aus'\n",
       "108. 'Aus'\n",
       "109. 'Aus'\n",
       "110. 'Aus'\n",
       "111. 'Aus'\n",
       "112. 'Aus'\n",
       "113. 'Aus'\n",
       "114. 'Aus'\n",
       "115. 'Aus'\n",
       "116. 'Aus'\n",
       "117. 'Aus'\n",
       "118. 'Aus'\n",
       "119. 'Aus'\n",
       "120. 'Aus'\n",
       "121. 'Aus'\n",
       "122. 'Aus'\n",
       "123. 'Aus'\n",
       "124. 'Aus'\n",
       "125. 'Aus'\n",
       "126. 'Aus'\n",
       "127. 'Aus'\n",
       "128. 'Aus'\n",
       "129. 'Aus'\n",
       "130. 'Aus'\n",
       "131. 'Aus'\n",
       "132. 'Aus'\n",
       "133. 'Aus'\n",
       "134. 'Aus'\n",
       "135. 'Aus'\n",
       "136. 'Aus'\n",
       "137. 'Aus'\n",
       "138. 'Aus'\n",
       "139. 'Aus'\n",
       "140. 'Aus'\n",
       "141. 'Aus'\n",
       "142. 'Aus'\n",
       "143. 'Aus'\n",
       "144. 'Aus'\n",
       "145. 'Aus'\n",
       "146. 'Aus'\n",
       "147. 'Aus'\n",
       "148. 'Aus'\n",
       "149. 'Aus'\n",
       "150. 'Aus'\n",
       "151. 'Aus'\n",
       "152. 'Aus'\n",
       "153. 'Aus'\n",
       "154. 'Aus'\n",
       "155. 'Aus'\n",
       "156. 'Aus'\n",
       "157. 'Aus'\n",
       "158. 'Aus'\n",
       "159. 'Aus'\n",
       "160. 'Aus'\n",
       "161. 'Aus'\n",
       "162. 'Aus'\n",
       "163. 'Aus'\n",
       "164. 'Aus'\n",
       "165. 'Aus'\n",
       "166. 'Aus'\n",
       "167. 'Aus'\n",
       "168. 'Aus'\n",
       "169. 'Aus'\n",
       "170. 'Aus'\n",
       "171. 'Aus'\n",
       "172. 'Aus'\n",
       "173. 'Aus'\n",
       "174. 'Aus'\n",
       "175. 'Aus'\n",
       "176. 'Aus'\n",
       "177. 'Aus'\n",
       "178. 'Aus'\n",
       "179. 'Aus'\n",
       "180. 'Aus'\n",
       "181. 'Aus'\n",
       "182. 'Aus'\n",
       "183. 'Aus'\n",
       "184. 'Aus'\n",
       "185. 'Aus'\n",
       "186. 'Aus'\n",
       "187. 'Aus'\n",
       "188. 'Aus'\n",
       "189. 'Aus'\n",
       "190. 'Aus'\n",
       "191. 'Aus'\n",
       "192. 'Aus'\n",
       "\n",
       "\n"
      ],
      "text/plain": [
       "  [1] \"Pres\" \"Pres\" \"Pres\" \"Pres\" \"Pres\" \"Pres\" \"Pres\" \"Pres\" \"Pres\" \"Pres\"\n",
       " [11] \"Pres\" \"Pres\" \"Pres\" \"Pres\" \"Pres\" \"Pres\" \"Pres\" \"Aus\"  \"Aus\"  \"Aus\" \n",
       " [21] \"Aus\"  \"Aus\"  \"Aus\"  \"Aus\"  \"Aus\"  \"Aus\"  \"Aus\"  \"Aus\"  \"Aus\"  \"Aus\" \n",
       " [31] \"Aus\"  \"Aus\"  \"Aus\"  \"Aus\"  \"Aus\"  \"Aus\"  \"Aus\"  \"Aus\"  \"Aus\"  \"Aus\" \n",
       " [41] \"Aus\"  \"Aus\"  \"Aus\"  \"Aus\"  \"Aus\"  \"Aus\"  \"Aus\"  \"Aus\"  \"Aus\"  \"Aus\" \n",
       " [51] \"Aus\"  \"Aus\"  \"Aus\"  \"Aus\"  \"Aus\"  \"Aus\"  \"Aus\"  \"Aus\"  \"Aus\"  \"Aus\" \n",
       " [61] \"Aus\"  \"Aus\"  \"Aus\"  \"Aus\"  \"Aus\"  \"Aus\"  \"Aus\"  \"Aus\"  \"Aus\"  \"Aus\" \n",
       " [71] \"Aus\"  \"Aus\"  \"Aus\"  \"Aus\"  \"Aus\"  \"Aus\"  \"Aus\"  \"Aus\"  \"Aus\"  \"Aus\" \n",
       " [81] \"Aus\"  \"Aus\"  \"Aus\"  \"Aus\"  \"Aus\"  \"Aus\"  \"Aus\"  \"Aus\"  \"Aus\"  \"Aus\" \n",
       " [91] \"Aus\"  \"Aus\"  \"Aus\"  \"Aus\"  \"Aus\"  \"Aus\"  \"Aus\"  \"Aus\"  \"Aus\"  \"Aus\" \n",
       "[101] \"Pres\" \"Pres\" \"Pres\" \"Pres\" \"Pres\" \"Pres\" \"Aus\"  \"Aus\"  \"Aus\"  \"Aus\" \n",
       "[111] \"Aus\"  \"Aus\"  \"Aus\"  \"Aus\"  \"Aus\"  \"Aus\"  \"Aus\"  \"Aus\"  \"Aus\"  \"Aus\" \n",
       "[121] \"Aus\"  \"Aus\"  \"Aus\"  \"Aus\"  \"Aus\"  \"Aus\"  \"Aus\"  \"Aus\"  \"Aus\"  \"Aus\" \n",
       "[131] \"Aus\"  \"Aus\"  \"Aus\"  \"Aus\"  \"Aus\"  \"Aus\"  \"Aus\"  \"Aus\"  \"Aus\"  \"Aus\" \n",
       "[141] \"Aus\"  \"Aus\"  \"Aus\"  \"Aus\"  \"Aus\"  \"Aus\"  \"Aus\"  \"Aus\"  \"Aus\"  \"Aus\" \n",
       "[151] \"Aus\"  \"Aus\"  \"Aus\"  \"Aus\"  \"Aus\"  \"Aus\"  \"Aus\"  \"Aus\"  \"Aus\"  \"Aus\" \n",
       "[161] \"Aus\"  \"Aus\"  \"Aus\"  \"Aus\"  \"Aus\"  \"Aus\"  \"Aus\"  \"Aus\"  \"Aus\"  \"Aus\" \n",
       "[171] \"Aus\"  \"Aus\"  \"Aus\"  \"Aus\"  \"Aus\"  \"Aus\"  \"Aus\"  \"Aus\"  \"Aus\"  \"Aus\" \n",
       "[181] \"Aus\"  \"Aus\"  \"Aus\"  \"Aus\"  \"Aus\"  \"Aus\"  \"Aus\"  \"Aus\"  \"Aus\"  \"Aus\" \n",
       "[191] \"Aus\"  \"Aus\" "
      ]
     },
     "metadata": {},
     "output_type": "display_data"
    }
   ],
   "source": [
    "dados<-read.table(\"../dados/teste.txt\",h=T)\n",
    "dados\n",
    "attach(dados)\n",
    "Fuma\n",
    "Infa"
   ]
  },
  {
   "cell_type": "code",
   "execution_count": 11,
   "metadata": {
    "vscode": {
     "languageId": "r"
    }
   },
   "outputs": [
    {
     "data": {
      "text/plain": [
       "     Infa\n",
       "Fuma  Aus Pres\n",
       "  Nao  86    6\n",
       "  Sim  83   17"
      ]
     },
     "metadata": {},
     "output_type": "display_data"
    }
   ],
   "source": [
    "tabcont<-table(Fuma,Infa)\n",
    "tabcont"
   ]
  },
  {
   "cell_type": "code",
   "execution_count": 12,
   "metadata": {
    "vscode": {
     "languageId": "r"
    }
   },
   "outputs": [
    {
     "data": {
      "text/plain": [
       "\n",
       "\tPearson's Chi-squared test\n",
       "\n",
       "data:  tabcont\n",
       "X-squared = 4.9895, df = 1, p-value = 0.0255\n"
      ]
     },
     "metadata": {},
     "output_type": "display_data"
    }
   ],
   "source": [
    "teste<-chisq.test(tabcont,correct = F)\n",
    "teste"
   ]
  },
  {
   "cell_type": "code",
   "execution_count": 13,
   "metadata": {
    "vscode": {
     "languageId": "r"
    }
   },
   "outputs": [
    {
     "data": {
      "text/html": [
       "<table class=\"dataframe\">\n",
       "<caption>A matrix: 2 × 2 of type dbl</caption>\n",
       "<thead>\n",
       "\t<tr><th></th><th scope=col>Presente</th><th scope=col>Ausente</th></tr>\n",
       "</thead>\n",
       "<tbody>\n",
       "\t<tr><th scope=row>Fumantes</th><td>17</td><td>83</td></tr>\n",
       "\t<tr><th scope=row>NaoFumantes</th><td> 6</td><td>86</td></tr>\n",
       "</tbody>\n",
       "</table>\n"
      ],
      "text/latex": [
       "A matrix: 2 × 2 of type dbl\n",
       "\\begin{tabular}{r|ll}\n",
       "  & Presente & Ausente\\\\\n",
       "\\hline\n",
       "\tFumantes & 17 & 83\\\\\n",
       "\tNaoFumantes &  6 & 86\\\\\n",
       "\\end{tabular}\n"
      ],
      "text/markdown": [
       "\n",
       "A matrix: 2 × 2 of type dbl\n",
       "\n",
       "| <!--/--> | Presente | Ausente |\n",
       "|---|---|---|\n",
       "| Fumantes | 17 | 83 |\n",
       "| NaoFumantes |  6 | 86 |\n",
       "\n"
      ],
      "text/plain": [
       "            Presente Ausente\n",
       "Fumantes    17       83     \n",
       "NaoFumantes  6       86     "
      ]
     },
     "metadata": {},
     "output_type": "display_data"
    },
    {
     "data": {
      "text/plain": [
       "\n",
       "\tPearson's Chi-squared test\n",
       "\n",
       "data:  x\n",
       "X-squared = 4.9895, df = 1, p-value = 0.0255\n"
      ]
     },
     "metadata": {},
     "output_type": "display_data"
    }
   ],
   "source": [
    "x<-matrix(c(17,6,83,86), nrow=2)\n",
    "rownames(x)<-c(\"Fumantes\",\"NaoFumantes\")\n",
    "colnames(x)<-c(\"Presente\", \"Ausente\")\n",
    "x\n",
    "chisq.test(x,correct=F)"
   ]
  },
  {
   "cell_type": "code",
   "execution_count": 14,
   "metadata": {
    "vscode": {
     "languageId": "r"
    }
   },
   "outputs": [
    {
     "data": {
      "text/html": [
       "<table class=\"dataframe\">\n",
       "<caption>A matrix: 2 × 2 of type dbl</caption>\n",
       "<thead>\n",
       "\t<tr><th></th><th scope=col>Presente</th><th scope=col>Ausente</th></tr>\n",
       "</thead>\n",
       "<tbody>\n",
       "\t<tr><th scope=row>Fumantes</th><td>11.97917</td><td>88.02083</td></tr>\n",
       "\t<tr><th scope=row>NaoFumantes</th><td>11.02083</td><td>80.97917</td></tr>\n",
       "</tbody>\n",
       "</table>\n"
      ],
      "text/latex": [
       "A matrix: 2 × 2 of type dbl\n",
       "\\begin{tabular}{r|ll}\n",
       "  & Presente & Ausente\\\\\n",
       "\\hline\n",
       "\tFumantes & 11.97917 & 88.02083\\\\\n",
       "\tNaoFumantes & 11.02083 & 80.97917\\\\\n",
       "\\end{tabular}\n"
      ],
      "text/markdown": [
       "\n",
       "A matrix: 2 × 2 of type dbl\n",
       "\n",
       "| <!--/--> | Presente | Ausente |\n",
       "|---|---|---|\n",
       "| Fumantes | 11.97917 | 88.02083 |\n",
       "| NaoFumantes | 11.02083 | 80.97917 |\n",
       "\n"
      ],
      "text/plain": [
       "            Presente Ausente \n",
       "Fumantes    11.97917 88.02083\n",
       "NaoFumantes 11.02083 80.97917"
      ]
     },
     "metadata": {},
     "output_type": "display_data"
    }
   ],
   "source": [
    "###Se precisarem das frequencias esperadas\n",
    "chisq.test(x,correct=F)$expected"
   ]
  },
  {
   "cell_type": "markdown",
   "metadata": {
    "vscode": {
     "languageId": "r"
    }
   },
   "source": [
    "### Teste exato de Fisher"
   ]
  },
  {
   "cell_type": "code",
   "execution_count": 15,
   "metadata": {
    "vscode": {
     "languageId": "r"
    }
   },
   "outputs": [
    {
     "data": {
      "text/html": [
       "<table class=\"dataframe\">\n",
       "<caption>A matrix: 2 × 2 of type dbl</caption>\n",
       "<thead>\n",
       "\t<tr><th></th><th scope=col>Fecundo</th><th scope=col>Nao Fecundo</th></tr>\n",
       "</thead>\n",
       "<tbody>\n",
       "\t<tr><th scope=row>A</th><td>3</td><td>7</td></tr>\n",
       "\t<tr><th scope=row>B</th><td>4</td><td>1</td></tr>\n",
       "</tbody>\n",
       "</table>\n"
      ],
      "text/latex": [
       "A matrix: 2 × 2 of type dbl\n",
       "\\begin{tabular}{r|ll}\n",
       "  & Fecundo & Nao Fecundo\\\\\n",
       "\\hline\n",
       "\tA & 3 & 7\\\\\n",
       "\tB & 4 & 1\\\\\n",
       "\\end{tabular}\n"
      ],
      "text/markdown": [
       "\n",
       "A matrix: 2 × 2 of type dbl\n",
       "\n",
       "| <!--/--> | Fecundo | Nao Fecundo |\n",
       "|---|---|---|\n",
       "| A | 3 | 7 |\n",
       "| B | 4 | 1 |\n",
       "\n"
      ],
      "text/plain": [
       "     Acasalamento\n",
       "Racao Fecundo Nao Fecundo\n",
       "    A 3       7          \n",
       "    B 4       1          "
      ]
     },
     "metadata": {},
     "output_type": "display_data"
    }
   ],
   "source": [
    "Racao <-\n",
    "  matrix(c(3, 4, 7, 1),\n",
    "         nrow = 2,\n",
    "         dimnames = list(Racao = c(\"A\", \"B\"),\n",
    "                         Acasalamento = c(\"Fecundo\", \"Nao Fecundo\")))\n",
    "Racao"
   ]
  },
  {
   "cell_type": "code",
   "execution_count": 16,
   "metadata": {
    "vscode": {
     "languageId": "r"
    }
   },
   "outputs": [
    {
     "data": {
      "text/plain": [
       "\n",
       "\tFisher's Exact Test for Count Data\n",
       "\n",
       "data:  Racao\n",
       "p-value = 0.1002\n",
       "alternative hypothesis: true odds ratio is less than 1\n",
       "95 percent confidence interval:\n",
       " 0.000000 1.445232\n",
       "sample estimates:\n",
       "odds ratio \n",
       " 0.1269625 \n"
      ]
     },
     "metadata": {},
     "output_type": "display_data"
    }
   ],
   "source": [
    "fisher.test(Racao, alternative = \"less\") #### Outras opcoes sao alternative=\"greater\",\n",
    "#### alternative=\"two.sided"
   ]
  },
  {
   "cell_type": "code",
   "execution_count": 18,
   "metadata": {
    "vscode": {
     "languageId": "r"
    }
   },
   "outputs": [
    {
     "name": "stderr",
     "output_type": "stream",
     "text": [
      "Warning message in chisq.test(Racao, correct = F):\n",
      "\"Aproximação do qui-quadrado pode estar incorreta\"\n"
     ]
    },
    {
     "data": {
      "text/plain": [
       "\n",
       "\tPearson's Chi-squared test\n",
       "\n",
       "data:  Racao\n",
       "X-squared = 3.3482, df = 1, p-value = 0.06728\n"
      ]
     },
     "metadata": {},
     "output_type": "display_data"
    }
   ],
   "source": [
    "####observe o que aconteceria se fizessemos o qui-quadrado\n",
    "chisq.test(Racao,correct=F)\n",
    "###frequencias pequenas = FIsher"
   ]
  },
  {
   "cell_type": "markdown",
   "metadata": {},
   "source": [
    "### Teste U de Mann Whitney"
   ]
  },
  {
   "cell_type": "code",
   "execution_count": 19,
   "metadata": {
    "vscode": {
     "languageId": "r"
    }
   },
   "outputs": [
    {
     "data": {
      "text/html": [
       "<style>\n",
       ".list-inline {list-style: none; margin:0; padding: 0}\n",
       ".list-inline>li {display: inline-block}\n",
       ".list-inline>li:not(:last-child)::after {content: \"\\00b7\"; padding: 0 .5ex}\n",
       "</style>\n",
       "<ol class=list-inline><li>9.9</li><li>7.4</li><li>8.9</li><li>9.1</li><li>7.7</li><li>9.7</li><li>11.8</li><li>7.5</li><li>9.2</li><li>10</li><li>10.2</li><li>9.5</li><li>10.8</li><li>8</li><li>11</li></ol>\n"
      ],
      "text/latex": [
       "\\begin{enumerate*}\n",
       "\\item 9.9\n",
       "\\item 7.4\n",
       "\\item 8.9\n",
       "\\item 9.1\n",
       "\\item 7.7\n",
       "\\item 9.7\n",
       "\\item 11.8\n",
       "\\item 7.5\n",
       "\\item 9.2\n",
       "\\item 10\n",
       "\\item 10.2\n",
       "\\item 9.5\n",
       "\\item 10.8\n",
       "\\item 8\n",
       "\\item 11\n",
       "\\end{enumerate*}\n"
      ],
      "text/markdown": [
       "1. 9.9\n",
       "2. 7.4\n",
       "3. 8.9\n",
       "4. 9.1\n",
       "5. 7.7\n",
       "6. 9.7\n",
       "7. 11.8\n",
       "8. 7.5\n",
       "9. 9.2\n",
       "10. 10\n",
       "11. 10.2\n",
       "12. 9.5\n",
       "13. 10.8\n",
       "14. 8\n",
       "15. 11\n",
       "\n",
       "\n"
      ],
      "text/plain": [
       " [1]  9.9  7.4  8.9  9.1  7.7  9.7 11.8  7.5  9.2 10.0 10.2  9.5 10.8  8.0 11.0"
      ]
     },
     "metadata": {},
     "output_type": "display_data"
    },
    {
     "data": {
      "text/html": [
       "<style>\n",
       ".list-inline {list-style: none; margin:0; padding: 0}\n",
       ".list-inline>li {display: inline-block}\n",
       ".list-inline>li:not(:last-child)::after {content: \"\\00b7\"; padding: 0 .5ex}\n",
       "</style>\n",
       "<ol class=list-inline><li>8.6</li><li>10.9</li><li>9.8</li><li>10.7</li><li>9.4</li><li>10.3</li><li>7.3</li><li>11.5</li><li>7.6</li><li>9.3</li><li>8.8</li><li>9.6</li></ol>\n"
      ],
      "text/latex": [
       "\\begin{enumerate*}\n",
       "\\item 8.6\n",
       "\\item 10.9\n",
       "\\item 9.8\n",
       "\\item 10.7\n",
       "\\item 9.4\n",
       "\\item 10.3\n",
       "\\item 7.3\n",
       "\\item 11.5\n",
       "\\item 7.6\n",
       "\\item 9.3\n",
       "\\item 8.8\n",
       "\\item 9.6\n",
       "\\end{enumerate*}\n"
      ],
      "text/markdown": [
       "1. 8.6\n",
       "2. 10.9\n",
       "3. 9.8\n",
       "4. 10.7\n",
       "5. 9.4\n",
       "6. 10.3\n",
       "7. 7.3\n",
       "8. 11.5\n",
       "9. 7.6\n",
       "10. 9.3\n",
       "11. 8.8\n",
       "12. 9.6\n",
       "\n",
       "\n"
      ],
      "text/plain": [
       " [1]  8.6 10.9  9.8 10.7  9.4 10.3  7.3 11.5  7.6  9.3  8.8  9.6"
      ]
     },
     "metadata": {},
     "output_type": "display_data"
    },
    {
     "data": {
      "text/plain": [
       "\n",
       "\tWilcoxon rank sum exact test\n",
       "\n",
       "data:  grupo1 and grupo2\n",
       "W = 88, p-value = 0.9427\n",
       "alternative hypothesis: true location shift is not equal to 0\n"
      ]
     },
     "metadata": {},
     "output_type": "display_data"
    },
    {
     "data": {
      "text/plain": [
       "\n",
       "\tWilcoxon rank sum exact test\n",
       "\n",
       "data:  grupo1 and grupo2\n",
       "W = 88, p-value = 0.4713\n",
       "alternative hypothesis: true location shift is less than 0\n"
      ]
     },
     "metadata": {},
     "output_type": "display_data"
    }
   ],
   "source": [
    "grupo1 <-c(9.9,7.4,8.9,9.1,7.7,9.7,11.8,7.5,9.2,10,10.2,9.5,10.8,8.0,11)\n",
    "grupo2 <-c(8.6,10.9,9.8,10.7,9.4,10.3,7.3,11.5,7.6,9.3,8.8,9.6)\n",
    "grupo1\n",
    "grupo2\n",
    "###Observe que o comando é o mesmo das amostras pareadas\n",
    "### exceto pelo fato de que la havia um paired=T na sintaxe\n",
    "### que informava que as amostras eram pareadas.\n",
    "wilcox.test(grupo1,grupo2, alternative = \"two.sided\")\n",
    "### unilateral\n",
    "wilcox.test(grupo1,grupo2, alternative = \"less\")"
   ]
  }
 ],
 "metadata": {
  "kernelspec": {
   "display_name": "R",
   "language": "R",
   "name": "ir"
  },
  "language_info": {
   "codemirror_mode": "r",
   "file_extension": ".r",
   "mimetype": "text/x-r-source",
   "name": "R",
   "pygments_lexer": "r",
   "version": "4.3.3"
  }
 },
 "nbformat": 4,
 "nbformat_minor": 2
}

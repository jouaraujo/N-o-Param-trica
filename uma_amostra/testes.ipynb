{
 "cells": [
  {
   "cell_type": "markdown",
   "metadata": {
    "vscode": {
     "languageId": "r"
    }
   },
   "source": [
    "### Teste Binomial"
   ]
  },
  {
   "cell_type": "code",
   "execution_count": 12,
   "metadata": {
    "vscode": {
     "languageId": "r"
    }
   },
   "outputs": [],
   "source": [
    "# calculo probabilidades binomial (exemplo 1)\n",
    "# dbinom calcula a probabilidade ponto a ponto:"
   ]
  },
  {
   "cell_type": "code",
   "execution_count": 1,
   "metadata": {
    "vscode": {
     "languageId": "r"
    }
   },
   "outputs": [
    {
     "data": {
      "text/html": [
       "0.1493083459"
      ],
      "text/latex": [
       "0.1493083459"
      ],
      "text/markdown": [
       "0.1493083459"
      ],
      "text/plain": [
       "[1] 0.1493083"
      ]
     },
     "metadata": {},
     "output_type": "display_data"
    }
   ],
   "source": [
    "#p(x=0)+p(x=1)\n",
    "dbinom(0,10,0.3)+dbinom(1,10,0.3)"
   ]
  },
  {
   "cell_type": "code",
   "execution_count": 2,
   "metadata": {
    "vscode": {
     "languageId": "r"
    }
   },
   "outputs": [
    {
     "data": {
      "text/html": [
       "0.1493083459"
      ],
      "text/latex": [
       "0.1493083459"
      ],
      "text/markdown": [
       "0.1493083459"
      ],
      "text/plain": [
       "[1] 0.1493083"
      ]
     },
     "metadata": {},
     "output_type": "display_data"
    }
   ],
   "source": [
    "#ou ainda\n",
    "sum(dbinom(0:1,10,0.3))"
   ]
  },
  {
   "cell_type": "code",
   "execution_count": 3,
   "metadata": {
    "vscode": {
     "languageId": "r"
    }
   },
   "outputs": [
    {
     "data": {
      "text/html": [
       "0.1493083459"
      ],
      "text/latex": [
       "0.1493083459"
      ],
      "text/markdown": [
       "0.1493083459"
      ],
      "text/plain": [
       "[1] 0.1493083"
      ]
     },
     "metadata": {},
     "output_type": "display_data"
    }
   ],
   "source": [
    "#ou ainda podemos calcular a probabilidade acumulada até o ponto 1\n",
    "#usando pbinom\n",
    "pbinom(1,10,0.3)"
   ]
  },
  {
   "cell_type": "code",
   "execution_count": 4,
   "metadata": {
    "vscode": {
     "languageId": "r"
    }
   },
   "outputs": [
    {
     "data": {
      "text/plain": [
       "\n",
       "\tExact binomial test\n",
       "\n",
       "data:  1 and 10\n",
       "number of successes = 1, number of trials = 10, p-value = 0.1493\n",
       "alternative hypothesis: true probability of success is less than 0.3\n",
       "95 percent confidence interval:\n",
       " 0.0000000 0.3941633\n",
       "sample estimates:\n",
       "probability of success \n",
       "                   0.1 \n"
      ]
     },
     "metadata": {},
     "output_type": "display_data"
    }
   ],
   "source": [
    "# Utilizando o comando direto para o teste binomial\n",
    "\n",
    "# temos que colocar a hipotese alternativa:\n",
    "# \"less\": unilat. a esquerda, \"greater\" a direita, \"two.sided\" bilateral\n",
    "# para o exemplo da doença da planta:\n",
    "\n",
    "binom.test(1,10,0.3,alternative = \"less\")\n",
    "# observe o p-valor igual a 0.1493, o mesmo calculado manualmente."
   ]
  },
  {
   "cell_type": "code",
   "execution_count": 15,
   "metadata": {
    "vscode": {
     "languageId": "r"
    }
   },
   "outputs": [],
   "source": [
    "# para o caso do exemplo de grande amostras"
   ]
  },
  {
   "cell_type": "code",
   "execution_count": 5,
   "metadata": {
    "vscode": {
     "languageId": "r"
    }
   },
   "outputs": [
    {
     "data": {
      "text/html": [
       "-1.29099444873581"
      ],
      "text/latex": [
       "-1.29099444873581"
      ],
      "text/markdown": [
       "-1.29099444873581"
      ],
      "text/plain": [
       "[1] -1.290994"
      ]
     },
     "metadata": {},
     "output_type": "display_data"
    }
   ],
   "source": [
    "x<-725\n",
    "n<-1500\n",
    "p<-0.50\n",
    "q<-0.50\n",
    "zcal<-((x-n*p)/(sqrt(n*p*q)))\n",
    "zcal"
   ]
  },
  {
   "cell_type": "code",
   "execution_count": 6,
   "metadata": {
    "vscode": {
     "languageId": "r"
    }
   },
   "outputs": [
    {
     "data": {
      "text/html": [
       "0.0983528012294734"
      ],
      "text/latex": [
       "0.0983528012294734"
      ],
      "text/markdown": [
       "0.0983528012294734"
      ],
      "text/plain": [
       "[1] 0.0983528"
      ]
     },
     "metadata": {},
     "output_type": "display_data"
    }
   ],
   "source": [
    "# Encontrando no R probabilidades utilizando a normal\n",
    "pnorm(zcal)"
   ]
  },
  {
   "cell_type": "code",
   "execution_count": 7,
   "metadata": {
    "vscode": {
     "languageId": "r"
    }
   },
   "outputs": [
    {
     "data": {
      "text/html": [
       "0.196705602458947"
      ],
      "text/latex": [
       "0.196705602458947"
      ],
      "text/markdown": [
       "0.196705602458947"
      ],
      "text/plain": [
       "[1] 0.1967056"
      ]
     },
     "metadata": {},
     "output_type": "display_data"
    }
   ],
   "source": [
    "# no caso do teste que fizemos em aula (725 masculino)\n",
    "# bilateral\n",
    "2*pnorm(zcal)"
   ]
  },
  {
   "cell_type": "code",
   "execution_count": 16,
   "metadata": {
    "vscode": {
     "languageId": "r"
    }
   },
   "outputs": [],
   "source": [
    "# Utilizando o comando do teste diretamente"
   ]
  },
  {
   "cell_type": "code",
   "execution_count": 8,
   "metadata": {
    "vscode": {
     "languageId": "r"
    }
   },
   "outputs": [
    {
     "data": {
      "text/plain": [
       "\n",
       "\tExact binomial test\n",
       "\n",
       "data:  725 and 1500\n",
       "number of successes = 725, number of trials = 1500, p-value = 0.2058\n",
       "alternative hypothesis: true probability of success is not equal to 0.5\n",
       "95 percent confidence interval:\n",
       " 0.4577647 0.5089673\n",
       "sample estimates:\n",
       "probability of success \n",
       "             0.4833333 \n"
      ]
     },
     "metadata": {},
     "output_type": "display_data"
    }
   ],
   "source": [
    "binom.test(725,1500,0.5,alternative = \"two.sided\")"
   ]
  },
  {
   "cell_type": "code",
   "execution_count": null,
   "metadata": {
    "vscode": {
     "languageId": "r"
    }
   },
   "outputs": [],
   "source": [
    "# note que o p-valor deu 0.2058,\n",
    "# isso se deve ao fato de que o R não faz a aproximação pela normal\n",
    "# ele calcula a prob. seguindo o modelo binomial de 0 até 725.\n",
    "# como fica inviável fazer isso \"a mão\", nós usamos a aproximação"
   ]
  },
  {
   "cell_type": "code",
   "execution_count": 9,
   "metadata": {
    "vscode": {
     "languageId": "r"
    }
   },
   "outputs": [
    {
     "data": {
      "text/html": [
       "0.205793644016846"
      ],
      "text/latex": [
       "0.205793644016846"
      ],
      "text/markdown": [
       "0.205793644016846"
      ],
      "text/plain": [
       "[1] 0.2057936"
      ]
     },
     "metadata": {},
     "output_type": "display_data"
    }
   ],
   "source": [
    "# compare o resultado do comando binom.test com o resultado abaixo\n",
    "\n",
    "2*pbinom(725,1500,0.5)\n",
    "# O R então faz sempre calculando as probabilidades pelo modelo binomial.\n",
    "# O pvalor do binom.test é o mesmo do calculo da probabilidade acima."
   ]
  },
  {
   "cell_type": "markdown",
   "metadata": {
    "vscode": {
     "languageId": "r"
    }
   },
   "source": [
    "### Teste Qui-quadrado"
   ]
  },
  {
   "cell_type": "code",
   "execution_count": 11,
   "metadata": {
    "vscode": {
     "languageId": "r"
    }
   },
   "outputs": [],
   "source": [
    "#será reproduzido o teste qui-quadrado\n",
    "#ajuste a distribuição poisson com lambda 1.38"
   ]
  },
  {
   "cell_type": "code",
   "execution_count": 13,
   "metadata": {
    "vscode": {
     "languageId": "r"
    }
   },
   "outputs": [],
   "source": [
    "# primeiramente vamos utilizar o R para calcular as probabilidades"
   ]
  },
  {
   "cell_type": "code",
   "execution_count": 14,
   "metadata": {
    "vscode": {
     "languageId": "r"
    }
   },
   "outputs": [],
   "source": [
    "pois<-c(0,1,2,3,4,5)"
   ]
  },
  {
   "cell_type": "code",
   "execution_count": 17,
   "metadata": {
    "vscode": {
     "languageId": "r"
    }
   },
   "outputs": [
    {
     "data": {
      "text/html": [
       "<style>\n",
       ".list-inline {list-style: none; margin:0; padding: 0}\n",
       ".list-inline>li {display: inline-block}\n",
       ".list-inline>li:not(:last-child)::after {content: \"\\00b7\"; padding: 0 .5ex}\n",
       "</style>\n",
       "<ol class=list-inline><li>0.251578553059757</li><li>0.347178403222464</li><li>0.2395530982235</li><li>0.11019442518281</li><li>0.0380170766880695</li><li>0.0104927131659072</li></ol>\n"
      ],
      "text/latex": [
       "\\begin{enumerate*}\n",
       "\\item 0.251578553059757\n",
       "\\item 0.347178403222464\n",
       "\\item 0.2395530982235\n",
       "\\item 0.11019442518281\n",
       "\\item 0.0380170766880695\n",
       "\\item 0.0104927131659072\n",
       "\\end{enumerate*}\n"
      ],
      "text/markdown": [
       "1. 0.251578553059757\n",
       "2. 0.347178403222464\n",
       "3. 0.2395530982235\n",
       "4. 0.11019442518281\n",
       "5. 0.0380170766880695\n",
       "6. 0.0104927131659072\n",
       "\n",
       "\n"
      ],
      "text/plain": [
       "[1] 0.25157855 0.34717840 0.23955310 0.11019443 0.03801708 0.01049271"
      ]
     },
     "metadata": {},
     "output_type": "display_data"
    }
   ],
   "source": [
    "# Probabilidade Poisson no R\n",
    "probs<-dpois(pois, 1.38)\n",
    "probs"
   ]
  },
  {
   "cell_type": "code",
   "execution_count": 18,
   "metadata": {
    "vscode": {
     "languageId": "r"
    }
   },
   "outputs": [
    {
     "data": {
      "text/html": [
       "<style>\n",
       ".list-inline {list-style: none; margin:0; padding: 0}\n",
       ".list-inline>li {display: inline-block}\n",
       ".list-inline>li:not(:last-child)::after {content: \"\\00b7\"; padding: 0 .5ex}\n",
       "</style>\n",
       "<ol class=list-inline><li>17.610498714183</li><li>24.3024882255725</li><li>16.768716875645</li><li>7.7136097627967</li><li>2.66119536816486</li><li>0.734489921613502</li></ol>\n"
      ],
      "text/latex": [
       "\\begin{enumerate*}\n",
       "\\item 17.610498714183\n",
       "\\item 24.3024882255725\n",
       "\\item 16.768716875645\n",
       "\\item 7.7136097627967\n",
       "\\item 2.66119536816486\n",
       "\\item 0.734489921613502\n",
       "\\end{enumerate*}\n"
      ],
      "text/markdown": [
       "1. 17.610498714183\n",
       "2. 24.3024882255725\n",
       "3. 16.768716875645\n",
       "4. 7.7136097627967\n",
       "5. 2.66119536816486\n",
       "6. 0.734489921613502\n",
       "\n",
       "\n"
      ],
      "text/plain": [
       "[1] 17.6104987 24.3024882 16.7687169  7.7136098  2.6611954  0.7344899"
      ]
     },
     "metadata": {},
     "output_type": "display_data"
    }
   ],
   "source": [
    "# Teste Qui-quadrado\n",
    "esperado<-probs*70\n",
    "esperado\n",
    "observado<-c(25,19,10,9,4,3)"
   ]
  },
  {
   "cell_type": "code",
   "execution_count": 20,
   "metadata": {
    "vscode": {
     "languageId": "r"
    }
   },
   "outputs": [
    {
     "name": "stderr",
     "output_type": "stream",
     "text": [
      "Warning message in chisq.test(observado, p = esperado, rescale.p = TRUE):\n",
      "\"Aproximação do qui-quadrado pode estar incorreta\"\n"
     ]
    },
    {
     "data": {
      "text/plain": [
       "\n",
       "\tChi-squared test for given probabilities\n",
       "\n",
       "data:  observado\n",
       "X-squared = 14.821, df = 5, p-value = 0.01116\n"
      ]
     },
     "metadata": {},
     "output_type": "display_data"
    }
   ],
   "source": [
    "# Observe que o teste será feito com observações\n",
    "# de que a aproximação pode estar incorreta\n",
    "# isso se deve ao fato das baixas frequencias.\n",
    "\n",
    "chisq.test(observado,p=esperado,rescale.p=TRUE)"
   ]
  },
  {
   "cell_type": "code",
   "execution_count": 21,
   "metadata": {
    "vscode": {
     "languageId": "r"
    }
   },
   "outputs": [
    {
     "data": {
      "text/plain": [
       "\n",
       "\tChi-squared test for given probabilities\n",
       "\n",
       "data:  observado\n",
       "X-squared = 9.1238, df = 3, p-value = 0.02769\n"
      ]
     },
     "metadata": {},
     "output_type": "display_data"
    }
   ],
   "source": [
    "# Vamos então testar somando as frequencias adjacentes:  \n",
    "\n",
    "observado=c(25,19,10,(9+4+3))\n",
    "esperado=c(17.61,24.30,16.77,(7.71+2.66+0.73))\n",
    "chisq.test(observado,p=esperado,rescale.p=TRUE)\n",
    "#### Agora só verificar o p-valor"
   ]
  },
  {
   "cell_type": "markdown",
   "metadata": {},
   "source": [
    "### Teste Kolmogorov para Normalidade"
   ]
  },
  {
   "cell_type": "code",
   "execution_count": 22,
   "metadata": {
    "vscode": {
     "languageId": "r"
    }
   },
   "outputs": [],
   "source": [
    "# Exemplo do material\n",
    "x=c(198,254,262,272,275,278,285,287,287,292)"
   ]
  },
  {
   "cell_type": "code",
   "execution_count": 23,
   "metadata": {
    "vscode": {
     "languageId": "r"
    }
   },
   "outputs": [
    {
     "name": "stderr",
     "output_type": "stream",
     "text": [
      "Warning message in ks.test.default(x, \"pnorm\", 290, 56):\n",
      "\"ties should not be present for the Kolmogorov-Smirnov test\"\n"
     ]
    },
    {
     "data": {
      "text/plain": [
       "\n",
       "\tAsymptotic one-sample Kolmogorov-Smirnov test\n",
       "\n",
       "data:  x\n",
       "D = 0.48576, p-value = 0.01785\n",
       "alternative hypothesis: two-sided\n"
      ]
     },
     "metadata": {},
     "output_type": "display_data"
    }
   ],
   "source": [
    "# Aqui entramos com os dados, a distribuição (normal), média e desvio.\n",
    "# O aviso que será apresentado é porque tem dois valores iguais\n",
    "ks.test(x,\"pnorm\",290,56)"
   ]
  },
  {
   "cell_type": "code",
   "execution_count": 24,
   "metadata": {
    "vscode": {
     "languageId": "r"
    }
   },
   "outputs": [],
   "source": [
    "# Observe que D=0.48 (mesmo encontrado no material) e o p-valor é menor\n",
    "# que 0.05. Assim rejeitamos a hipotese de normalidade\n"
   ]
  },
  {
   "cell_type": "markdown",
   "metadata": {
    "vscode": {
     "languageId": "r"
    }
   },
   "source": [
    "### Teste de Lilliefors"
   ]
  },
  {
   "cell_type": "code",
   "execution_count": 25,
   "metadata": {
    "vscode": {
     "languageId": "r"
    }
   },
   "outputs": [],
   "source": [
    "# Faremos o mesmo exemplo anterior por Liliefors\n",
    "# Lembre-se que ele nao usa informações da população e sim da amostra\n",
    "# precisaremos instalar o pacote nortest"
   ]
  },
  {
   "cell_type": "code",
   "execution_count": 27,
   "metadata": {
    "vscode": {
     "languageId": "r"
    }
   },
   "outputs": [
    {
     "data": {
      "text/plain": [
       "\n",
       "\tLilliefors (Kolmogorov-Smirnov) normality test\n",
       "\n",
       "data:  x\n",
       "D = 0.24322, p-value = 0.09606\n"
      ]
     },
     "metadata": {},
     "output_type": "display_data"
    }
   ],
   "source": [
    "#install.packages(\"nortest\")\n",
    "library(nortest)\n",
    "lillie.test(x)"
   ]
  },
  {
   "cell_type": "code",
   "execution_count": 29,
   "metadata": {
    "vscode": {
     "languageId": "r"
    }
   },
   "outputs": [
    {
     "data": {
      "text/html": [
       "269"
      ],
      "text/latex": [
       "269"
      ],
      "text/markdown": [
       "269"
      ],
      "text/plain": [
       "[1] 269"
      ]
     },
     "metadata": {},
     "output_type": "display_data"
    },
    {
     "data": {
      "text/html": [
       "27.6365297708988"
      ],
      "text/latex": [
       "27.6365297708988"
      ],
      "text/markdown": [
       "27.6365297708988"
      ],
      "text/plain": [
       "[1] 27.63653"
      ]
     },
     "metadata": {},
     "output_type": "display_data"
    }
   ],
   "source": [
    "# Veja que agora não rejeitamos a normalidade. Porém, o teste foi feito com os\n",
    "# valores amostrais de media e desvio padrão.\n",
    "mean(x)\n",
    "sd(x)"
   ]
  },
  {
   "cell_type": "code",
   "execution_count": 31,
   "metadata": {
    "vscode": {
     "languageId": "r"
    }
   },
   "outputs": [],
   "source": [
    "#install.packages(\"DescTools\")\n",
    "library(DescTools)"
   ]
  },
  {
   "cell_type": "code",
   "execution_count": 33,
   "metadata": {
    "vscode": {
     "languageId": "r"
    }
   },
   "outputs": [
    {
     "data": {
      "text/html": [
       "<style>\n",
       ".list-inline {list-style: none; margin:0; padding: 0}\n",
       ".list-inline>li {display: inline-block}\n",
       ".list-inline>li:not(:last-child)::after {content: \"\\00b7\"; padding: 0 .5ex}\n",
       "</style>\n",
       "<ol class=list-inline><li>'a'</li><li>'a'</li><li>'a'</li><li>'a'</li><li>'a'</li><li>'b'</li><li>'b'</li><li>'a'</li><li>'a'</li><li>'a'</li><li>'b'</li><li>'a'</li><li>'a'</li><li>'b'</li><li>'b'</li><li>'b'</li><li>'b'</li><li>'b'</li><li>'b'</li><li>'b'</li><li>'b'</li><li>'a'</li><li>'a'</li></ol>\n"
      ],
      "text/latex": [
       "\\begin{enumerate*}\n",
       "\\item 'a'\n",
       "\\item 'a'\n",
       "\\item 'a'\n",
       "\\item 'a'\n",
       "\\item 'a'\n",
       "\\item 'b'\n",
       "\\item 'b'\n",
       "\\item 'a'\n",
       "\\item 'a'\n",
       "\\item 'a'\n",
       "\\item 'b'\n",
       "\\item 'a'\n",
       "\\item 'a'\n",
       "\\item 'b'\n",
       "\\item 'b'\n",
       "\\item 'b'\n",
       "\\item 'b'\n",
       "\\item 'b'\n",
       "\\item 'b'\n",
       "\\item 'b'\n",
       "\\item 'b'\n",
       "\\item 'a'\n",
       "\\item 'a'\n",
       "\\end{enumerate*}\n"
      ],
      "text/markdown": [
       "1. 'a'\n",
       "2. 'a'\n",
       "3. 'a'\n",
       "4. 'a'\n",
       "5. 'a'\n",
       "6. 'b'\n",
       "7. 'b'\n",
       "8. 'a'\n",
       "9. 'a'\n",
       "10. 'a'\n",
       "11. 'b'\n",
       "12. 'a'\n",
       "13. 'a'\n",
       "14. 'b'\n",
       "15. 'b'\n",
       "16. 'b'\n",
       "17. 'b'\n",
       "18. 'b'\n",
       "19. 'b'\n",
       "20. 'b'\n",
       "21. 'b'\n",
       "22. 'a'\n",
       "23. 'a'\n",
       "\n",
       "\n"
      ],
      "text/plain": [
       " [1] \"a\" \"a\" \"a\" \"a\" \"a\" \"b\" \"b\" \"a\" \"a\" \"a\" \"b\" \"a\" \"a\" \"b\" \"b\" \"b\" \"b\" \"b\" \"b\"\n",
       "[20] \"b\" \"b\" \"a\" \"a\""
      ]
     },
     "metadata": {},
     "output_type": "display_data"
    }
   ],
   "source": [
    "ter<-c(\"a\",\"a\",\"a\",\"a\",\"a\",\"b\",\"b\",\"a\",\"a\",\"a\",\"b\",\"a\",\"a\",\"b\",\"b\",\"b\",\n",
    "       \"b\",\"b\",\"b\",\"b\",\"b\",\"a\",\"a\")\n",
    "ter"
   ]
  },
  {
   "cell_type": "code",
   "execution_count": 34,
   "metadata": {
    "vscode": {
     "languageId": "r"
    }
   },
   "outputs": [
    {
     "data": {
      "text/plain": [
       "\n",
       "\tRuns Test for Randomness\n",
       "\n",
       "data:  ter\n",
       "runs = 7, m = 12, n = 11, p-value = 0.02997\n",
       "alternative hypothesis: true number of runs is not equal the expected number\n"
      ]
     },
     "metadata": {},
     "output_type": "display_data"
    }
   ],
   "source": [
    "RunsTest(ter)"
   ]
  },
  {
   "cell_type": "code",
   "execution_count": 36,
   "metadata": {
    "vscode": {
     "languageId": "r"
    }
   },
   "outputs": [],
   "source": [
    "#install.packages(\"randtests\")\n",
    "library(randtests)"
   ]
  },
  {
   "cell_type": "code",
   "execution_count": 37,
   "metadata": {
    "vscode": {
     "languageId": "r"
    }
   },
   "outputs": [],
   "source": [
    "x=c(108,103,109,107,125,142,147,122,116,153,144,162,143,126,145,129,134,137,143,150,\n",
    "    148,152,126,106,112,139,132,122,138,148,155,146,158)"
   ]
  },
  {
   "cell_type": "code",
   "execution_count": 38,
   "metadata": {
    "vscode": {
     "languageId": "r"
    }
   },
   "outputs": [
    {
     "data": {
      "text/plain": [
       "\n",
       "\tRuns Test\n",
       "\n",
       "data:  x\n",
       "statistic = -1.797, runs = 12, n1 = 16, n2 = 16, n = 32, p-value =\n",
       "0.07234\n",
       "alternative hypothesis: nonrandomness\n"
      ]
     },
     "metadata": {},
     "output_type": "display_data"
    }
   ],
   "source": [
    "runs.test(x)"
   ]
  }
 ],
 "metadata": {
  "kernelspec": {
   "display_name": "R",
   "language": "R",
   "name": "ir"
  },
  "language_info": {
   "codemirror_mode": "r",
   "file_extension": ".r",
   "mimetype": "text/x-r-source",
   "name": "R",
   "pygments_lexer": "r",
   "version": "4.3.3"
  }
 },
 "nbformat": 4,
 "nbformat_minor": 2
}

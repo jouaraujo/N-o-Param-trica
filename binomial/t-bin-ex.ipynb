{
 "cells": [
  {
   "cell_type": "code",
   "execution_count": 3,
   "metadata": {},
   "outputs": [],
   "source": [
    "from scipy.stats import binom"
   ]
  },
  {
   "cell_type": "markdown",
   "metadata": {},
   "source": [
    "### Exemplo"
   ]
  },
  {
   "cell_type": "markdown",
   "metadata": {},
   "source": [
    "Examinando-se uma cultura de soja, verificou-se em uma amostra de 10 plantas, 1 planta doente.\n",
    "No gera, infestações menores que 30% são controláveis.\n",
    "Nesse caso, há a possibilidade de se fazer o controloe? ($\\alpha$ = 0,05)"
   ]
  },
  {
   "cell_type": "code",
   "execution_count": 6,
   "metadata": {},
   "outputs": [],
   "source": [
    "n = 10\n",
    "alpha = 0.05\n",
    "# 1 planta doente\n",
    "# 9 plantas sadias\n",
    "x = 1\n",
    "p = 0.3\n",
    "q = 0.7"
   ]
  },
  {
   "cell_type": "markdown",
   "metadata": {},
   "source": [
    "H0: p = 0.3\\\n",
    "H1: p < 0.3"
   ]
  },
  {
   "cell_type": "markdown",
   "metadata": {},
   "source": [
    "P(X<=1) = P(X=0) + P(X=1)"
   ]
  },
  {
   "cell_type": "markdown",
   "metadata": {},
   "source": [
    "### Como se trata de sucesso e fracasso\n",
    "P(X=x))${{n \\choose x} \\cdot p^x \\cdot q^{n-x}}$"
   ]
  },
  {
   "cell_type": "markdown",
   "metadata": {},
   "source": [
    "P(X<=1) = ${{10 \\choose 0} \\cdot 0.3^0 \\cdot 0.7^{10- 0}}$ + ${{10 \\choose 1} \\cdot 0.3^{1} \\cdot 0.7^{10-1}}$"
   ]
  },
  {
   "cell_type": "code",
   "execution_count": 5,
   "metadata": {},
   "outputs": [
    {
     "data": {
      "text/plain": [
       "0.1493083458999999"
      ]
     },
     "execution_count": 5,
     "metadata": {},
     "output_type": "execute_result"
    }
   ],
   "source": [
    "probabilidade = binom.cdf(1, 10, 0.3)\n",
    "probabilidade"
   ]
  },
  {
   "cell_type": "code",
   "execution_count": 8,
   "metadata": {},
   "outputs": [
    {
     "name": "stdout",
     "output_type": "stream",
     "text": [
      "Não rejeita H0\n"
     ]
    }
   ],
   "source": [
    "if probabilidade <= alpha:\n",
    "    print(\"Rejeita H0\")\n",
    "else:\n",
    "    print(\"Não rejeita H0\")"
   ]
  },
  {
   "cell_type": "markdown",
   "metadata": {},
   "source": [
    "Existem evidências de que não há como fazer o controle da infestação."
   ]
  }
 ],
 "metadata": {
  "kernelspec": {
   "display_name": "base",
   "language": "python",
   "name": "python3"
  },
  "language_info": {
   "codemirror_mode": {
    "name": "ipython",
    "version": 3
   },
   "file_extension": ".py",
   "mimetype": "text/x-python",
   "name": "python",
   "nbconvert_exporter": "python",
   "pygments_lexer": "ipython3",
   "version": "3.11.7"
  }
 },
 "nbformat": 4,
 "nbformat_minor": 2
}
